{
  "nbformat": 4,
  "nbformat_minor": 0,
  "metadata": {
    "colab": {
      "provenance": [],
      "collapsed_sections": [
        "hnqyoXKF96lk",
        "j-DtHMiaCBBh",
        "He8Ur6xm-dd1",
        "iIYTZkdh-_Hh",
        "W-aicmV9AoVT",
        "d8s3b6DBDEO_",
        "R9hXhJYDDNQ_",
        "xJ20Z8DdDRVK",
        "g8c6pmdrDfa5",
        "dscCcEJjDk4W",
        "eGdk5Gm2D9yi",
        "qTQzWOXWEN06",
        "wpmCbuxnEyrF",
        "oTigGoEYJKdN",
        "Y8IPBxayaW57",
        "MgWh11boaqTp",
        "DhgdFcQnKz7G",
        "OXisA2jpLs0m"
      ]
    },
    "kernelspec": {
      "name": "python3",
      "display_name": "Python 3"
    },
    "language_info": {
      "name": "python"
    }
  },
  "cells": [
    {
      "cell_type": "markdown",
      "source": [
        "# **Wine Quality Classification**"
      ],
      "metadata": {
        "id": "GeYvHpmF_dQL"
      }
    },
    {
      "cell_type": "markdown",
      "source": [
        "The data was downloaded from UCI Machine Learning Repository: https://archive.ics.uci.edu/dataset/186/wine+quality\n",
        "\n",
        "The two datasets are related to red and white variants of the Portuguese “Vinho Verde” wine. For more details, consult: [Web Link](http://www.vinhoverde.pt/en/) or the reference [Cortez et al., 2009].\n",
        "\n",
        "These datasets were compiled using samples of red and white wines. The data includes objective measurements like pH values and the outcome is based on sensory evaluations, with the wine quality rated on a scale from 0 (very bad) to 10 (excellent) by wine experts. Each rating represents the median of at least three assessments by these experts. Due to privacy and logistical reasons, only the physicochemical properties (inputs) and the sensory ratings (outputs) are available, with no information on grape varieties, brand names, or prices.  Also, the creators are not sure if all input variables are relevant. So it could be interesting to test feature selection methods.\n",
        "\n",
        "The data can be approached as either a classification or regression problem. The goal is to classify the dataset into different quality categories. To achieve this, distinct machine learning models will be developed and evaluated to identify the most effective one."
      ],
      "metadata": {
        "id": "aiRiBnRm__xE"
      }
    },
    {
      "cell_type": "markdown",
      "source": [
        "# 1. Initial Setup\n"
      ],
      "metadata": {
        "id": "bSTEJWomGz4e"
      }
    },
    {
      "cell_type": "markdown",
      "source": [
        "## 1.1 Installations\n",
        "\n",
        "\n"
      ],
      "metadata": {
        "id": "hnqyoXKF96lk"
      }
    },
    {
      "cell_type": "markdown",
      "source": [
        "### Package Descriptions\n",
        "\n",
        "\n",
        "*   **ucimlrepo**: This package facilitates the direct fetching of datasets from the UCI Machine Learning Repository, allowing for easy integration into data processing pipelines.\n",
        "*   **Boruta**: Boruta is a feature selection algorithm. It works by iteratively removing features that are proven by a statistical test to be less relevant for predicting the target variable.\n",
        "*   **imbalanced-learn**: This library provides tools for dealing with imbalanced datasets, which is crucial for our project since the wine quality dataset has more normal wines than excellent or poor ones. It offers various resampling techniques to adjust the class distribution.\n",
        "\n",
        "\n",
        "\n",
        "\n",
        "\n",
        "\n",
        "\n"
      ],
      "metadata": {
        "id": "j-DtHMiaCBBh"
      }
    },
    {
      "cell_type": "code",
      "execution_count": 1,
      "metadata": {
        "colab": {
          "base_uri": "https://localhost:8080/"
        },
        "id": "SuHDjuqo8Rpu",
        "outputId": "fa4a27b0-21fb-4bd8-c085-333430cd0835"
      },
      "outputs": [
        {
          "output_type": "stream",
          "name": "stdout",
          "text": [
            "Collecting ucimlrepo\n",
            "  Downloading ucimlrepo-0.0.7-py3-none-any.whl.metadata (5.5 kB)\n",
            "Requirement already satisfied: pandas>=1.0.0 in /usr/local/lib/python3.10/dist-packages (from ucimlrepo) (2.1.4)\n",
            "Requirement already satisfied: certifi>=2020.12.5 in /usr/local/lib/python3.10/dist-packages (from ucimlrepo) (2024.7.4)\n",
            "Requirement already satisfied: numpy<2,>=1.22.4 in /usr/local/lib/python3.10/dist-packages (from pandas>=1.0.0->ucimlrepo) (1.26.4)\n",
            "Requirement already satisfied: python-dateutil>=2.8.2 in /usr/local/lib/python3.10/dist-packages (from pandas>=1.0.0->ucimlrepo) (2.8.2)\n",
            "Requirement already satisfied: pytz>=2020.1 in /usr/local/lib/python3.10/dist-packages (from pandas>=1.0.0->ucimlrepo) (2024.1)\n",
            "Requirement already satisfied: tzdata>=2022.1 in /usr/local/lib/python3.10/dist-packages (from pandas>=1.0.0->ucimlrepo) (2024.1)\n",
            "Requirement already satisfied: six>=1.5 in /usr/local/lib/python3.10/dist-packages (from python-dateutil>=2.8.2->pandas>=1.0.0->ucimlrepo) (1.16.0)\n",
            "Downloading ucimlrepo-0.0.7-py3-none-any.whl (8.0 kB)\n",
            "Installing collected packages: ucimlrepo\n",
            "Successfully installed ucimlrepo-0.0.7\n",
            "Collecting boruta\n",
            "  Downloading Boruta-0.4.3-py3-none-any.whl.metadata (8.8 kB)\n",
            "Requirement already satisfied: numpy>=1.10.4 in /usr/local/lib/python3.10/dist-packages (from boruta) (1.26.4)\n",
            "Requirement already satisfied: scikit-learn>=0.17.1 in /usr/local/lib/python3.10/dist-packages (from boruta) (1.3.2)\n",
            "Requirement already satisfied: scipy>=0.17.0 in /usr/local/lib/python3.10/dist-packages (from boruta) (1.13.1)\n",
            "Requirement already satisfied: joblib>=1.1.1 in /usr/local/lib/python3.10/dist-packages (from scikit-learn>=0.17.1->boruta) (1.4.2)\n",
            "Requirement already satisfied: threadpoolctl>=2.0.0 in /usr/local/lib/python3.10/dist-packages (from scikit-learn>=0.17.1->boruta) (3.5.0)\n",
            "Downloading Boruta-0.4.3-py3-none-any.whl (57 kB)\n",
            "\u001b[2K   \u001b[90m━━━━━━━━━━━━━━━━━━━━━━━━━━━━━━━━━━━━━━━━\u001b[0m \u001b[32m57.9/57.9 kB\u001b[0m \u001b[31m3.4 MB/s\u001b[0m eta \u001b[36m0:00:00\u001b[0m\n",
            "\u001b[?25hInstalling collected packages: boruta\n",
            "Successfully installed boruta-0.4.3\n",
            "Requirement already satisfied: imbalanced-learn in /usr/local/lib/python3.10/dist-packages (0.12.3)\n",
            "Requirement already satisfied: numpy>=1.17.3 in /usr/local/lib/python3.10/dist-packages (from imbalanced-learn) (1.26.4)\n",
            "Requirement already satisfied: scipy>=1.5.0 in /usr/local/lib/python3.10/dist-packages (from imbalanced-learn) (1.13.1)\n",
            "Requirement already satisfied: scikit-learn>=1.0.2 in /usr/local/lib/python3.10/dist-packages (from imbalanced-learn) (1.3.2)\n",
            "Requirement already satisfied: joblib>=1.1.1 in /usr/local/lib/python3.10/dist-packages (from imbalanced-learn) (1.4.2)\n",
            "Requirement already satisfied: threadpoolctl>=2.0.0 in /usr/local/lib/python3.10/dist-packages (from imbalanced-learn) (3.5.0)\n"
          ]
        }
      ],
      "source": [
        "!pip install ucimlrepo\n",
        "!pip install boruta\n",
        "!pip install imbalanced-learn"
      ]
    },
    {
      "cell_type": "markdown",
      "source": [
        "## 1.2 Import of required libraries"
      ],
      "metadata": {
        "id": "He8Ur6xm-dd1"
      }
    },
    {
      "cell_type": "code",
      "source": [
        "import pandas as pd\n",
        "import numpy as np\n",
        "import seaborn as sns\n",
        "import matplotlib.pyplot as plt\n",
        "from sklearn.model_selection import train_test_split, GridSearchCV\n",
        "from sklearn.preprocessing import StandardScaler\n",
        "from sklearn.metrics import classification_report, confusion_matrix, roc_auc_score, accuracy_score, precision_score, recall_score, f1_score\n",
        "from sklearn.linear_model import LogisticRegression\n",
        "from sklearn.tree import DecisionTreeClassifier\n",
        "from sklearn.ensemble import GradientBoostingClassifier, RandomForestClassifier\n",
        "from sklearn.svm import SVC\n",
        "from sklearn.neighbors import KNeighborsClassifier\n",
        "from sklearn.neural_network import MLPClassifier\n",
        "from boruta import BorutaPy\n",
        "from imblearn.over_sampling import SMOTE\n",
        "from sklearn.model_selection import GridSearchCV, RandomizedSearchCV\n",
        "from sklearn.pipeline import Pipeline\n",
        "from scipy.stats import randint, uniform\n",
        "import joblib\n",
        "from ucimlrepo import fetch_ucirepo"
      ],
      "metadata": {
        "id": "YjDlsgfg-rwA"
      },
      "execution_count": 2,
      "outputs": []
    },
    {
      "cell_type": "markdown",
      "source": [
        "## 1.3 Load data from UCI repo"
      ],
      "metadata": {
        "id": "iIYTZkdh-_Hh"
      }
    },
    {
      "cell_type": "markdown",
      "source": [
        "To work with the wine quality dataset for our classification task, we will first fetch the dataset using the ucimlrepo Python package."
      ],
      "metadata": {
        "id": "4m8MgRBPCyNp"
      }
    },
    {
      "cell_type": "code",
      "source": [
        "# fetch dataset\n",
        "wine_quality = fetch_ucirepo(id=186)\n",
        "\n",
        "# data (as pandas dataframes)\n",
        "X = wine_quality.data.features\n",
        "y = wine_quality.data.targets\n",
        "\n",
        "# metadata\n",
        "print(wine_quality.metadata)\n",
        "\n",
        "# variable information\n",
        "print(wine_quality.variables)\n"
      ],
      "metadata": {
        "colab": {
          "base_uri": "https://localhost:8080/"
        },
        "id": "MEC6Ctpn8XUR",
        "outputId": "5a156cca-e628-4b65-c9f5-a1bb8a44b1a2"
      },
      "execution_count": 17,
      "outputs": [
        {
          "output_type": "stream",
          "name": "stdout",
          "text": [
            "{'uci_id': 186, 'name': 'Wine Quality', 'repository_url': 'https://archive.ics.uci.edu/dataset/186/wine+quality', 'data_url': 'https://archive.ics.uci.edu/static/public/186/data.csv', 'abstract': 'Two datasets are included, related to red and white vinho verde wine samples, from the north of Portugal. The goal is to model wine quality based on physicochemical tests (see [Cortez et al., 2009], http://www3.dsi.uminho.pt/pcortez/wine/).', 'area': 'Business', 'tasks': ['Classification', 'Regression'], 'characteristics': ['Multivariate'], 'num_instances': 4898, 'num_features': 11, 'feature_types': ['Real'], 'demographics': [], 'target_col': ['quality'], 'index_col': None, 'has_missing_values': 'no', 'missing_values_symbol': None, 'year_of_dataset_creation': 2009, 'last_updated': 'Wed Nov 15 2023', 'dataset_doi': '10.24432/C56S3T', 'creators': ['Paulo Cortez', 'A. Cerdeira', 'F. Almeida', 'T. Matos', 'J. Reis'], 'intro_paper': {'title': 'Modeling wine preferences by data mining from physicochemical properties', 'authors': 'P. Cortez, A. Cerdeira, Fernando Almeida, Telmo Matos, J. Reis', 'published_in': 'Decision Support Systems', 'year': 2009, 'url': 'https://www.semanticscholar.org/paper/Modeling-wine-preferences-by-data-mining-from-Cortez-Cerdeira/bf15a0ccc14ac1deb5cea570c870389c16be019c', 'doi': None}, 'additional_info': {'summary': 'The two datasets are related to red and white variants of the Portuguese \"Vinho Verde\" wine. For more details, consult: http://www.vinhoverde.pt/en/ or the reference [Cortez et al., 2009].  Due to privacy and logistic issues, only physicochemical (inputs) and sensory (the output) variables are available (e.g. there is no data about grape types, wine brand, wine selling price, etc.).\\n\\nThese datasets can be viewed as classification or regression tasks.  The classes are ordered and not balanced (e.g. there are many more normal wines than excellent or poor ones). Outlier detection algorithms could be used to detect the few excellent or poor wines. Also, we are not sure if all input variables are relevant. So it could be interesting to test feature selection methods.\\n', 'purpose': None, 'funded_by': None, 'instances_represent': None, 'recommended_data_splits': None, 'sensitive_data': None, 'preprocessing_description': None, 'variable_info': 'For more information, read [Cortez et al., 2009].\\r\\nInput variables (based on physicochemical tests):\\r\\n   1 - fixed acidity\\r\\n   2 - volatile acidity\\r\\n   3 - citric acid\\r\\n   4 - residual sugar\\r\\n   5 - chlorides\\r\\n   6 - free sulfur dioxide\\r\\n   7 - total sulfur dioxide\\r\\n   8 - density\\r\\n   9 - pH\\r\\n   10 - sulphates\\r\\n   11 - alcohol\\r\\nOutput variable (based on sensory data): \\r\\n   12 - quality (score between 0 and 10)', 'citation': None}}\n",
            "                    name     role         type demographic  \\\n",
            "0          fixed_acidity  Feature   Continuous        None   \n",
            "1       volatile_acidity  Feature   Continuous        None   \n",
            "2            citric_acid  Feature   Continuous        None   \n",
            "3         residual_sugar  Feature   Continuous        None   \n",
            "4              chlorides  Feature   Continuous        None   \n",
            "5    free_sulfur_dioxide  Feature   Continuous        None   \n",
            "6   total_sulfur_dioxide  Feature   Continuous        None   \n",
            "7                density  Feature   Continuous        None   \n",
            "8                     pH  Feature   Continuous        None   \n",
            "9              sulphates  Feature   Continuous        None   \n",
            "10               alcohol  Feature   Continuous        None   \n",
            "11               quality   Target      Integer        None   \n",
            "12                 color    Other  Categorical        None   \n",
            "\n",
            "               description units missing_values  \n",
            "0                     None  None             no  \n",
            "1                     None  None             no  \n",
            "2                     None  None             no  \n",
            "3                     None  None             no  \n",
            "4                     None  None             no  \n",
            "5                     None  None             no  \n",
            "6                     None  None             no  \n",
            "7                     None  None             no  \n",
            "8                     None  None             no  \n",
            "9                     None  None             no  \n",
            "10                    None  None             no  \n",
            "11  score between 0 and 10  None             no  \n",
            "12            red or white  None             no  \n"
          ]
        }
      ]
    },
    {
      "cell_type": "markdown",
      "source": [
        "# 2. Exploratory Data Analysis (EDA)"
      ],
      "metadata": {
        "id": "W-aicmV9AoVT"
      }
    },
    {
      "cell_type": "markdown",
      "source": [
        "### 2.1 Display the first few rows of the dataset"
      ],
      "metadata": {
        "id": "d8s3b6DBDEO_"
      }
    },
    {
      "cell_type": "code",
      "source": [
        "print(X.head())\n",
        "\n",
        "\n"
      ],
      "metadata": {
        "id": "iEsLs8vZ84Ai",
        "colab": {
          "base_uri": "https://localhost:8080/"
        },
        "outputId": "969ab047-0342-4fda-f464-28ce65c3dbf9"
      },
      "execution_count": 4,
      "outputs": [
        {
          "output_type": "stream",
          "name": "stdout",
          "text": [
            "   fixed_acidity  volatile_acidity  citric_acid  residual_sugar  chlorides  \\\n",
            "0            7.4              0.70         0.00             1.9      0.076   \n",
            "1            7.8              0.88         0.00             2.6      0.098   \n",
            "2            7.8              0.76         0.04             2.3      0.092   \n",
            "3           11.2              0.28         0.56             1.9      0.075   \n",
            "4            7.4              0.70         0.00             1.9      0.076   \n",
            "\n",
            "   free_sulfur_dioxide  total_sulfur_dioxide  density    pH  sulphates  \\\n",
            "0                 11.0                  34.0   0.9978  3.51       0.56   \n",
            "1                 25.0                  67.0   0.9968  3.20       0.68   \n",
            "2                 15.0                  54.0   0.9970  3.26       0.65   \n",
            "3                 17.0                  60.0   0.9980  3.16       0.58   \n",
            "4                 11.0                  34.0   0.9978  3.51       0.56   \n",
            "\n",
            "   alcohol  \n",
            "0      9.4  \n",
            "1      9.8  \n",
            "2      9.8  \n",
            "3      9.8  \n",
            "4      9.4  \n"
          ]
        }
      ]
    },
    {
      "cell_type": "markdown",
      "source": [
        "### 2.2 Statistical description of the features"
      ],
      "metadata": {
        "id": "R9hXhJYDDNQ_"
      }
    },
    {
      "cell_type": "code",
      "source": [
        "print(X.describe())\n"
      ],
      "metadata": {
        "id": "LNfTo06d948t",
        "colab": {
          "base_uri": "https://localhost:8080/"
        },
        "outputId": "34626504-d64a-4591-f417-6e03bc96aace"
      },
      "execution_count": 5,
      "outputs": [
        {
          "output_type": "stream",
          "name": "stdout",
          "text": [
            "       fixed_acidity  volatile_acidity  citric_acid  residual_sugar  \\\n",
            "count    6497.000000       6497.000000  6497.000000     6497.000000   \n",
            "mean        7.215307          0.339666     0.318633        5.443235   \n",
            "std         1.296434          0.164636     0.145318        4.757804   \n",
            "min         3.800000          0.080000     0.000000        0.600000   \n",
            "25%         6.400000          0.230000     0.250000        1.800000   \n",
            "50%         7.000000          0.290000     0.310000        3.000000   \n",
            "75%         7.700000          0.400000     0.390000        8.100000   \n",
            "max        15.900000          1.580000     1.660000       65.800000   \n",
            "\n",
            "         chlorides  free_sulfur_dioxide  total_sulfur_dioxide      density  \\\n",
            "count  6497.000000          6497.000000           6497.000000  6497.000000   \n",
            "mean      0.056034            30.525319            115.744574     0.994697   \n",
            "std       0.035034            17.749400             56.521855     0.002999   \n",
            "min       0.009000             1.000000              6.000000     0.987110   \n",
            "25%       0.038000            17.000000             77.000000     0.992340   \n",
            "50%       0.047000            29.000000            118.000000     0.994890   \n",
            "75%       0.065000            41.000000            156.000000     0.996990   \n",
            "max       0.611000           289.000000            440.000000     1.038980   \n",
            "\n",
            "                pH    sulphates      alcohol  \n",
            "count  6497.000000  6497.000000  6497.000000  \n",
            "mean      3.218501     0.531268    10.491801  \n",
            "std       0.160787     0.148806     1.192712  \n",
            "min       2.720000     0.220000     8.000000  \n",
            "25%       3.110000     0.430000     9.500000  \n",
            "50%       3.210000     0.510000    10.300000  \n",
            "75%       3.320000     0.600000    11.300000  \n",
            "max       4.010000     2.000000    14.900000  \n"
          ]
        }
      ]
    },
    {
      "cell_type": "markdown",
      "source": [
        "### 2.3 Check for missing values"
      ],
      "metadata": {
        "id": "xJ20Z8DdDRVK"
      }
    },
    {
      "cell_type": "markdown",
      "source": [
        "The analysis confirms that there are no missing values in the dataset across all variables. This indicates excellent data completeness"
      ],
      "metadata": {
        "id": "S3wCsdYgF7-P"
      }
    },
    {
      "cell_type": "code",
      "source": [
        "print(X.isnull().sum())"
      ],
      "metadata": {
        "colab": {
          "base_uri": "https://localhost:8080/"
        },
        "id": "cnQ1FYenByOZ",
        "outputId": "1e26046b-8719-423a-a143-8673f473206d"
      },
      "execution_count": 6,
      "outputs": [
        {
          "output_type": "stream",
          "name": "stdout",
          "text": [
            "fixed_acidity           0\n",
            "volatile_acidity        0\n",
            "citric_acid             0\n",
            "residual_sugar          0\n",
            "chlorides               0\n",
            "free_sulfur_dioxide     0\n",
            "total_sulfur_dioxide    0\n",
            "density                 0\n",
            "pH                      0\n",
            "sulphates               0\n",
            "alcohol                 0\n",
            "dtype: int64\n"
          ]
        }
      ]
    },
    {
      "cell_type": "markdown",
      "source": [
        "### 2.4 Visualizing the Distribution of Wine Quality"
      ],
      "metadata": {
        "id": "g8c6pmdrDfa5"
      }
    },
    {
      "cell_type": "markdown",
      "source": [
        "This bar chart shows the distribution of wine quality ratings in the dataset. The majority of wines are rated either 5 or 6, indicating that most fall into the average quality range. There are fewer wines rated 3, 4, 7, and 8, with very few reaching a quality rating of 9. This distribution suggests that extremely high or low quality wines are rare, with most wines clustering around the middle quality ratings. This unbalanced distribution can impact the performance of machine learning models, potentially leading to biases towards predicting more common classes. It's important to consider methods such as resampling or using different performance metrics that can handle class imbalance effectively during model training."
      ],
      "metadata": {
        "id": "X_sJr8sQGQPJ"
      }
    },
    {
      "cell_type": "code",
      "source": [
        "# Convert the target variable to a DataFrame if it's a Series\n",
        "if isinstance(y, pd.Series):\n",
        "    y = y.to_frame()\n",
        "\n",
        "# Distribution of the target variable\n",
        "sns.countplot(x=y.columns[0], data=y)  # Assuming y is now a DataFrame\n",
        "plt.title(\"Distribution of Wine Quality\")\n",
        "plt.show()\n"
      ],
      "metadata": {
        "colab": {
          "base_uri": "https://localhost:8080/",
          "height": 0
        },
        "id": "6TqdUM4LB2K4",
        "outputId": "d1916d17-0c33-420f-d852-002ef1b61480"
      },
      "execution_count": 7,
      "outputs": [
        {
          "output_type": "display_data",
          "data": {
            "text/plain": [
              "<Figure size 640x480 with 1 Axes>"
            ],
            "image/png": "[encoded data removed]"
          },
          "metadata": {}
        }
      ]
    },
    {
      "cell_type": "markdown",
      "source": [
        "### 2.5 Analyzing Feature Correlations\n"
      ],
      "metadata": {
        "id": "dscCcEJjDk4W"
      }
    },
    {
      "cell_type": "markdown",
      "source": [
        "This correlation matrix  visualizes the relationships between different physicochemical properties of wines. Key observations include:\n",
        "\n",
        "**High Correlation Pairs**: There are notably strong correlations between certain variables:\n",
        "\n",
        "*   free_sulfur_dioxide and total_sulfur_dioxide show a very high positive\n",
        "correlation (0.72), indicating that these two features might represent related or overlapping information.\n",
        "*   density and alcohol exhibit a strong negative correlation (-0.69), suggesting that wines with higher alcohol content tend to have lower density.\n",
        "\n",
        "**Moderate Correlations:**\n",
        "\n",
        "*   citric_acid has a moderate positive correlation with fixed_acidity (0.32) and density (0.36), which might be indicative of how these chemical properties interact in wine composition.\n",
        "*   volatile_acidity shows moderate negative correlations with citric_acid (-0.38) and alcohol (-0.04), suggesting how these elements affect the wine’s volatility and overall profile.\n",
        "Low or Insignificant Correlations:\n",
        "\n",
        "Many pairs of variables exhibit low or negligible correlations, indicating that they contribute independently to the wine's characteristics, such as pH and sulphates (0.19), or residual_sugar and chlorides (0.04)."
      ],
      "metadata": {
        "id": "trUSeLKMGcP2"
      }
    },
    {
      "cell_type": "code",
      "source": [
        "# Correlation matrix\n",
        "plt.figure(figsize=(12,8))\n",
        "sns.heatmap(X.corr(), annot=True, cmap='coolwarm', fmt='.2f')\n",
        "plt.title(\"Correlation Matrix of Features\")\n",
        "plt.show()"
      ],
      "metadata": {
        "colab": {
          "base_uri": "https://localhost:8080/",
          "height": 0
        },
        "id": "awRAdk7qDjIN",
        "outputId": "4ea25237-b19b-413f-a834-503e8734866e"
      },
      "execution_count": 8,
      "outputs": [
        {
          "output_type": "display_data",
          "data": {
            "text/plain": [
              "<Figure size 1200x800 with 2 Axes>"
            ],
            "image/png": "[encoded data removed]"
          },
          "metadata": {}
        }
      ]
    },
    {
      "cell_type": "markdown",
      "source": [
        "### 2.6 Outlier Detection"
      ],
      "metadata": {
        "id": "eGdk5Gm2D9yi"
      }
    },
    {
      "cell_type": "markdown",
      "source": [
        "The boxplot visualization displays the distribution of various physicochemical features of wines. Observations from the boxplots include:\n",
        "\n",
        "*   **Outliers**: Several features like residual sugar, chlorides, and free sulfur dioxide show a significant number of outliers above the upper quartile, suggesting that some wines have unusually high levels of these chemicals.\n",
        "\n",
        "*   **Spread and Variability**: The total sulfur dioxide feature shows a wide interquartile range, indicating substantial variability among wines in this chemical property. This could affect the taste and preservation qualities of the wine.\n",
        "\n",
        "*   **Central Tendency**: Most features have their medians near the lower quartile, except for density and pH, which appear more centrally located within their boxes. This suggests a skewed distribution for most features, where the majority of values are clustered towards the lower end of the scale.\n",
        "\n",
        "*   **Scale of Features**: The scales of the features vary widely; for example, total sulfur dioxide values stretch far beyond the range of most other chemical properties. This might necessitate normalization or scaling during data preprocessing to ensure that all features contribute equally to analytical models.\n",
        "\n",
        "These insights can guide further preprocessing steps such as feature scaling, which are crucial for building robust predictive models."
      ],
      "metadata": {
        "id": "px89jfg6Hf5r"
      }
    },
    {
      "cell_type": "code",
      "source": [
        "# Boxplots of each feature\n",
        "plt.figure(figsize=(15, 10))\n",
        "X.boxplot()\n",
        "plt.title(\"Boxplots of Features\")\n",
        "plt.xticks(rotation=45)\n",
        "plt.show()"
      ],
      "metadata": {
        "colab": {
          "base_uri": "https://localhost:8080/",
          "height": 0
        },
        "id": "MXxjmAj6B-Pi",
        "outputId": "e12beebf-1753-43aa-9d31-56892f6c0e48"
      },
      "execution_count": 9,
      "outputs": [
        {
          "output_type": "display_data",
          "data": {
            "text/plain": [
              "<Figure size 1500x1000 with 1 Axes>"
            ],
            "image/png": "[encoded data removed]"
          },
          "metadata": {}
        }
      ]
    },
    {
      "cell_type": "code",
      "source": [
        "# Boxplot for 'alcohol'\n",
        "sns.boxplot(x=X['alcohol'])\n",
        "plt.title(\"Boxplot of Alcohol Content\")\n",
        "plt.show()"
      ],
      "metadata": {
        "colab": {
          "base_uri": "https://localhost:8080/",
          "height": 0
        },
        "id": "wjqrIpFLEOzY",
        "outputId": "d5e80cea-30e3-49cb-bd9f-923d1129137c"
      },
      "execution_count": 10,
      "outputs": [
        {
          "output_type": "display_data",
          "data": {
            "text/plain": [
              "<Figure size 640x480 with 1 Axes>"
            ],
            "image/png": "[encoded data removed]"
          },
          "metadata": {}
        }
      ]
    },
    {
      "cell_type": "markdown",
      "source": [
        "### 2.7 Histograms of each feature"
      ],
      "metadata": {
        "id": "qTQzWOXWEN06"
      }
    },
    {
      "cell_type": "code",
      "source": [
        "X.hist(bins=15, figsize=(15, 10), layout=(5, 3), edgecolor='black')\n",
        "plt.suptitle(\"Feature Distributions\")\n",
        "plt.show()"
      ],
      "metadata": {
        "colab": {
          "base_uri": "https://localhost:8080/",
          "height": 0
        },
        "id": "TTSFmquaD5_y",
        "outputId": "2eeddcc2-a259-408f-fe5a-8bae667e7fbd"
      },
      "execution_count": 11,
      "outputs": [
        {
          "output_type": "display_data",
          "data": {
            "text/plain": [
              "<Figure size 1500x1000 with 15 Axes>"
            ],
            "image/png": "[encoded data removed]"
          },
          "metadata": {}
        }
      ]
    },
    {
      "cell_type": "markdown",
      "source": [
        "# 3. Data Preprocessing"
      ],
      "metadata": {
        "id": "wpmCbuxnEyrF"
      }
    },
    {
      "cell_type": "markdown",
      "source": [
        "## 3.1 Split and scaling"
      ],
      "metadata": {
        "id": "oTigGoEYJKdN"
      }
    },
    {
      "cell_type": "markdown",
      "source": [
        "To ensure our models trains effectively and generalizes well to new data, we need to split our dataset into training and testing sets. Additionally, we'll apply feature scaling to standardize the range of our feature values."
      ],
      "metadata": {
        "id": "jNyjSexGIuOH"
      }
    },
    {
      "cell_type": "code",
      "source": [
        "# Split the data into training and testing sets\n",
        "X_train, X_test, y_train, y_test = train_test_split(X, y, test_size=0.2, random_state=42, stratify=y)\n",
        "\n",
        "\n",
        "# Feature scaling\n",
        "scaler = StandardScaler()\n",
        "X_train = scaler.fit_transform(X_train)\n",
        "X_test = scaler.transform(X_test)\n",
        "\n",
        "# Save the scaler\n",
        "joblib.dump(scaler, 'scaler.pkl')"
      ],
      "metadata": {
        "colab": {
          "base_uri": "https://localhost:8080/"
        },
        "id": "OCvgRvpqE3oF",
        "outputId": "81001294-b0a7-4f11-92a8-304b9ba0831f"
      },
      "execution_count": 13,
      "outputs": [
        {
          "output_type": "execute_result",
          "data": {
            "text/plain": [
              "['scaler.pkl']"
            ]
          },
          "metadata": {},
          "execution_count": 13
        }
      ]
    },
    {
      "cell_type": "markdown",
      "source": [
        "## 3.2 Feature Selection with Boruta"
      ],
      "metadata": {
        "id": "UiDms6VXGbhx"
      }
    },
    {
      "cell_type": "markdown",
      "source": [
        "In our pursuit to enhance the predictive performance of our model on the wine quality dataset, we employ the Boruta algorithm, which significantly aids in selecting the most relevant features. Boruta works by comparing the importance of original features with the importance of shadow features (random permutations of real features) using a Random Forest classifier. This method ensures that only the features which have a genuine impact on the output variable are retained, thus improving model reliability and computational efficiency.\n",
        "\n",
        "**Implementation Steps:**\n",
        "*   Initialize the Random Forest Classifier: Set up with class balancing to account for any uneven distribution of classes and limited depth to prevent overfitting.\n",
        "*   Configure and Execute Boruta: Specify the number of estimators as 'auto' for Boruta to decide based on the data, and set a high percentile to ensure robust feature selection.\n",
        "*   Extract and Utilize Selected Features: Identify which features are deemed important and reduce the dataset accordingly for both training and testing phases.\n",
        "\n",
        "\n",
        "Selected features by Boruta:\n",
        "\n",
        "['fixed_acidity', 'volatile_acidity', 'chlorides', 'free_sulfur_dioxide', 'total_sulfur_dioxide', 'density', 'alcohol']\n",
        "\n",
        "*   Confirmed: \t7\n",
        "*   Rejected: \t4"
      ],
      "metadata": {
        "id": "Ys8-xmREJUfr"
      }
    },
    {
      "cell_type": "code",
      "source": [
        "from boruta import BorutaPy\n",
        "from sklearn.ensemble import RandomForestClassifier\n",
        "\n",
        "# Initialize the random forest classifier\n",
        "rf = RandomForestClassifier(n_jobs=-1, class_weight='balanced', max_depth=5)\n",
        "\n",
        "# Initialize Boruta\n",
        "boruta_selector = BorutaPy(rf, n_estimators='auto', verbose=2, random_state=42, perc = 80)\n",
        "\n",
        "# Run Boruta\n",
        "boruta_selector.fit(X_train, y_train.values)\n",
        "\n",
        "# Check selected features\n",
        "selected_features = X.columns[boruta_selector.support_].tolist()\n",
        "print(\"Selected features by Boruta:\")\n",
        "print(selected_features)\n",
        "\n",
        "# Reduce the dataset to the selected features\n",
        "X_boruta = X_train[:, boruta_selector.support_]\n",
        "X_test_boruta = X_test[:, boruta_selector.support_]"
      ],
      "metadata": {
        "colab": {
          "base_uri": "https://localhost:8080/"
        },
        "collapsed": true,
        "id": "1vick0KfGPfu",
        "outputId": "effe988a-d40e-46fb-c728-166fe9258a7c"
      },
      "execution_count": 82,
      "outputs": [
        {
          "output_type": "stream",
          "name": "stderr",
          "text": [
            "/usr/local/lib/python3.10/dist-packages/sklearn/utils/validation.py:1183: DataConversionWarning: A column-vector y was passed when a 1d array was expected. Please change the shape of y to (n_samples, ), for example using ravel().\n",
            "  y = column_or_1d(y, warn=True)\n",
            "/usr/local/lib/python3.10/dist-packages/sklearn/base.py:1152: DataConversionWarning: A column-vector y was passed when a 1d array was expected. Please change the shape of y to (n_samples,), for example using ravel().\n",
            "  return fit_method(estimator, *args, **kwargs)\n"
          ]
        },
        {
          "output_type": "stream",
          "name": "stdout",
          "text": [
            "Iteration: \t1 / 100\n",
            "Confirmed: \t0\n",
            "Tentative: \t11\n",
            "Rejected: \t0\n"
          ]
        },
        {
          "output_type": "stream",
          "name": "stderr",
          "text": [
            "/usr/local/lib/python3.10/dist-packages/sklearn/base.py:1152: DataConversionWarning: A column-vector y was passed when a 1d array was expected. Please change the shape of y to (n_samples,), for example using ravel().\n",
            "  return fit_method(estimator, *args, **kwargs)\n"
          ]
        },
        {
          "output_type": "stream",
          "name": "stdout",
          "text": [
            "Iteration: \t2 / 100\n",
            "Confirmed: \t0\n",
            "Tentative: \t11\n",
            "Rejected: \t0\n"
          ]
        },
        {
          "output_type": "stream",
          "name": "stderr",
          "text": [
            "/usr/local/lib/python3.10/dist-packages/sklearn/base.py:1152: DataConversionWarning: A column-vector y was passed when a 1d array was expected. Please change the shape of y to (n_samples,), for example using ravel().\n",
            "  return fit_method(estimator, *args, **kwargs)\n"
          ]
        },
        {
          "output_type": "stream",
          "name": "stdout",
          "text": [
            "Iteration: \t3 / 100\n",
            "Confirmed: \t0\n",
            "Tentative: \t11\n",
            "Rejected: \t0\n"
          ]
        },
        {
          "output_type": "stream",
          "name": "stderr",
          "text": [
            "/usr/local/lib/python3.10/dist-packages/sklearn/base.py:1152: DataConversionWarning: A column-vector y was passed when a 1d array was expected. Please change the shape of y to (n_samples,), for example using ravel().\n",
            "  return fit_method(estimator, *args, **kwargs)\n"
          ]
        },
        {
          "output_type": "stream",
          "name": "stdout",
          "text": [
            "Iteration: \t4 / 100\n",
            "Confirmed: \t0\n",
            "Tentative: \t11\n",
            "Rejected: \t0\n"
          ]
        },
        {
          "output_type": "stream",
          "name": "stderr",
          "text": [
            "/usr/local/lib/python3.10/dist-packages/sklearn/base.py:1152: DataConversionWarning: A column-vector y was passed when a 1d array was expected. Please change the shape of y to (n_samples,), for example using ravel().\n",
            "  return fit_method(estimator, *args, **kwargs)\n"
          ]
        },
        {
          "output_type": "stream",
          "name": "stdout",
          "text": [
            "Iteration: \t5 / 100\n",
            "Confirmed: \t0\n",
            "Tentative: \t11\n",
            "Rejected: \t0\n"
          ]
        },
        {
          "output_type": "stream",
          "name": "stderr",
          "text": [
            "/usr/local/lib/python3.10/dist-packages/sklearn/base.py:1152: DataConversionWarning: A column-vector y was passed when a 1d array was expected. Please change the shape of y to (n_samples,), for example using ravel().\n",
            "  return fit_method(estimator, *args, **kwargs)\n"
          ]
        },
        {
          "output_type": "stream",
          "name": "stdout",
          "text": [
            "Iteration: \t6 / 100\n",
            "Confirmed: \t0\n",
            "Tentative: \t11\n",
            "Rejected: \t0\n"
          ]
        },
        {
          "output_type": "stream",
          "name": "stderr",
          "text": [
            "/usr/local/lib/python3.10/dist-packages/sklearn/base.py:1152: DataConversionWarning: A column-vector y was passed when a 1d array was expected. Please change the shape of y to (n_samples,), for example using ravel().\n",
            "  return fit_method(estimator, *args, **kwargs)\n"
          ]
        },
        {
          "output_type": "stream",
          "name": "stdout",
          "text": [
            "Iteration: \t7 / 100\n",
            "Confirmed: \t0\n",
            "Tentative: \t11\n",
            "Rejected: \t0\n"
          ]
        },
        {
          "output_type": "stream",
          "name": "stderr",
          "text": [
            "/usr/local/lib/python3.10/dist-packages/sklearn/base.py:1152: DataConversionWarning: A column-vector y was passed when a 1d array was expected. Please change the shape of y to (n_samples,), for example using ravel().\n",
            "  return fit_method(estimator, *args, **kwargs)\n"
          ]
        },
        {
          "output_type": "stream",
          "name": "stdout",
          "text": [
            "Iteration: \t8 / 100\n",
            "Confirmed: \t6\n",
            "Tentative: \t3\n",
            "Rejected: \t2\n"
          ]
        },
        {
          "output_type": "stream",
          "name": "stderr",
          "text": [
            "/usr/local/lib/python3.10/dist-packages/sklearn/base.py:1152: DataConversionWarning: A column-vector y was passed when a 1d array was expected. Please change the shape of y to (n_samples,), for example using ravel().\n",
            "  return fit_method(estimator, *args, **kwargs)\n"
          ]
        },
        {
          "output_type": "stream",
          "name": "stdout",
          "text": [
            "Iteration: \t9 / 100\n",
            "Confirmed: \t6\n",
            "Tentative: \t3\n",
            "Rejected: \t2\n"
          ]
        },
        {
          "output_type": "stream",
          "name": "stderr",
          "text": [
            "/usr/local/lib/python3.10/dist-packages/sklearn/base.py:1152: DataConversionWarning: A column-vector y was passed when a 1d array was expected. Please change the shape of y to (n_samples,), for example using ravel().\n",
            "  return fit_method(estimator, *args, **kwargs)\n"
          ]
        },
        {
          "output_type": "stream",
          "name": "stdout",
          "text": [
            "Iteration: \t10 / 100\n",
            "Confirmed: \t6\n",
            "Tentative: \t3\n",
            "Rejected: \t2\n"
          ]
        },
        {
          "output_type": "stream",
          "name": "stderr",
          "text": [
            "/usr/local/lib/python3.10/dist-packages/sklearn/base.py:1152: DataConversionWarning: A column-vector y was passed when a 1d array was expected. Please change the shape of y to (n_samples,), for example using ravel().\n",
            "  return fit_method(estimator, *args, **kwargs)\n"
          ]
        },
        {
          "output_type": "stream",
          "name": "stdout",
          "text": [
            "Iteration: \t11 / 100\n",
            "Confirmed: \t6\n",
            "Tentative: \t3\n",
            "Rejected: \t2\n"
          ]
        },
        {
          "output_type": "stream",
          "name": "stderr",
          "text": [
            "/usr/local/lib/python3.10/dist-packages/sklearn/base.py:1152: DataConversionWarning: A column-vector y was passed when a 1d array was expected. Please change the shape of y to (n_samples,), for example using ravel().\n",
            "  return fit_method(estimator, *args, **kwargs)\n"
          ]
        },
        {
          "output_type": "stream",
          "name": "stdout",
          "text": [
            "Iteration: \t12 / 100\n",
            "Confirmed: \t7\n",
            "Tentative: \t2\n",
            "Rejected: \t2\n"
          ]
        },
        {
          "output_type": "stream",
          "name": "stderr",
          "text": [
            "/usr/local/lib/python3.10/dist-packages/sklearn/base.py:1152: DataConversionWarning: A column-vector y was passed when a 1d array was expected. Please change the shape of y to (n_samples,), for example using ravel().\n",
            "  return fit_method(estimator, *args, **kwargs)\n"
          ]
        },
        {
          "output_type": "stream",
          "name": "stdout",
          "text": [
            "Iteration: \t13 / 100\n",
            "Confirmed: \t7\n",
            "Tentative: \t2\n",
            "Rejected: \t2\n"
          ]
        },
        {
          "output_type": "stream",
          "name": "stderr",
          "text": [
            "/usr/local/lib/python3.10/dist-packages/sklearn/base.py:1152: DataConversionWarning: A column-vector y was passed when a 1d array was expected. Please change the shape of y to (n_samples,), for example using ravel().\n",
            "  return fit_method(estimator, *args, **kwargs)\n"
          ]
        },
        {
          "output_type": "stream",
          "name": "stdout",
          "text": [
            "Iteration: \t14 / 100\n",
            "Confirmed: \t7\n",
            "Tentative: \t2\n",
            "Rejected: \t2\n"
          ]
        },
        {
          "output_type": "stream",
          "name": "stderr",
          "text": [
            "/usr/local/lib/python3.10/dist-packages/sklearn/base.py:1152: DataConversionWarning: A column-vector y was passed when a 1d array was expected. Please change the shape of y to (n_samples,), for example using ravel().\n",
            "  return fit_method(estimator, *args, **kwargs)\n"
          ]
        },
        {
          "output_type": "stream",
          "name": "stdout",
          "text": [
            "Iteration: \t15 / 100\n",
            "Confirmed: \t7\n",
            "Tentative: \t2\n",
            "Rejected: \t2\n"
          ]
        },
        {
          "output_type": "stream",
          "name": "stderr",
          "text": [
            "/usr/local/lib/python3.10/dist-packages/sklearn/base.py:1152: DataConversionWarning: A column-vector y was passed when a 1d array was expected. Please change the shape of y to (n_samples,), for example using ravel().\n",
            "  return fit_method(estimator, *args, **kwargs)\n"
          ]
        },
        {
          "output_type": "stream",
          "name": "stdout",
          "text": [
            "Iteration: \t16 / 100\n",
            "Confirmed: \t7\n",
            "Tentative: \t2\n",
            "Rejected: \t2\n"
          ]
        },
        {
          "output_type": "stream",
          "name": "stderr",
          "text": [
            "/usr/local/lib/python3.10/dist-packages/sklearn/base.py:1152: DataConversionWarning: A column-vector y was passed when a 1d array was expected. Please change the shape of y to (n_samples,), for example using ravel().\n",
            "  return fit_method(estimator, *args, **kwargs)\n"
          ]
        },
        {
          "output_type": "stream",
          "name": "stdout",
          "text": [
            "Iteration: \t17 / 100\n",
            "Confirmed: \t7\n",
            "Tentative: \t2\n",
            "Rejected: \t2\n"
          ]
        },
        {
          "output_type": "stream",
          "name": "stderr",
          "text": [
            "/usr/local/lib/python3.10/dist-packages/sklearn/base.py:1152: DataConversionWarning: A column-vector y was passed when a 1d array was expected. Please change the shape of y to (n_samples,), for example using ravel().\n",
            "  return fit_method(estimator, *args, **kwargs)\n"
          ]
        },
        {
          "output_type": "stream",
          "name": "stdout",
          "text": [
            "Iteration: \t18 / 100\n",
            "Confirmed: \t7\n",
            "Tentative: \t2\n",
            "Rejected: \t2\n"
          ]
        },
        {
          "output_type": "stream",
          "name": "stderr",
          "text": [
            "/usr/local/lib/python3.10/dist-packages/sklearn/base.py:1152: DataConversionWarning: A column-vector y was passed when a 1d array was expected. Please change the shape of y to (n_samples,), for example using ravel().\n",
            "  return fit_method(estimator, *args, **kwargs)\n"
          ]
        },
        {
          "output_type": "stream",
          "name": "stdout",
          "text": [
            "Iteration: \t19 / 100\n",
            "Confirmed: \t7\n",
            "Tentative: \t2\n",
            "Rejected: \t2\n"
          ]
        },
        {
          "output_type": "stream",
          "name": "stderr",
          "text": [
            "/usr/local/lib/python3.10/dist-packages/sklearn/base.py:1152: DataConversionWarning: A column-vector y was passed when a 1d array was expected. Please change the shape of y to (n_samples,), for example using ravel().\n",
            "  return fit_method(estimator, *args, **kwargs)\n"
          ]
        },
        {
          "output_type": "stream",
          "name": "stdout",
          "text": [
            "Iteration: \t20 / 100\n",
            "Confirmed: \t7\n",
            "Tentative: \t2\n",
            "Rejected: \t2\n"
          ]
        },
        {
          "output_type": "stream",
          "name": "stderr",
          "text": [
            "/usr/local/lib/python3.10/dist-packages/sklearn/base.py:1152: DataConversionWarning: A column-vector y was passed when a 1d array was expected. Please change the shape of y to (n_samples,), for example using ravel().\n",
            "  return fit_method(estimator, *args, **kwargs)\n"
          ]
        },
        {
          "output_type": "stream",
          "name": "stdout",
          "text": [
            "Iteration: \t21 / 100\n",
            "Confirmed: \t7\n",
            "Tentative: \t2\n",
            "Rejected: \t2\n"
          ]
        },
        {
          "output_type": "stream",
          "name": "stderr",
          "text": [
            "/usr/local/lib/python3.10/dist-packages/sklearn/base.py:1152: DataConversionWarning: A column-vector y was passed when a 1d array was expected. Please change the shape of y to (n_samples,), for example using ravel().\n",
            "  return fit_method(estimator, *args, **kwargs)\n"
          ]
        },
        {
          "output_type": "stream",
          "name": "stdout",
          "text": [
            "Iteration: \t22 / 100\n",
            "Confirmed: \t7\n",
            "Tentative: \t2\n",
            "Rejected: \t2\n"
          ]
        },
        {
          "output_type": "stream",
          "name": "stderr",
          "text": [
            "/usr/local/lib/python3.10/dist-packages/sklearn/base.py:1152: DataConversionWarning: A column-vector y was passed when a 1d array was expected. Please change the shape of y to (n_samples,), for example using ravel().\n",
            "  return fit_method(estimator, *args, **kwargs)\n"
          ]
        },
        {
          "output_type": "stream",
          "name": "stdout",
          "text": [
            "Iteration: \t23 / 100\n",
            "Confirmed: \t7\n",
            "Tentative: \t2\n",
            "Rejected: \t2\n"
          ]
        },
        {
          "output_type": "stream",
          "name": "stderr",
          "text": [
            "/usr/local/lib/python3.10/dist-packages/sklearn/base.py:1152: DataConversionWarning: A column-vector y was passed when a 1d array was expected. Please change the shape of y to (n_samples,), for example using ravel().\n",
            "  return fit_method(estimator, *args, **kwargs)\n"
          ]
        },
        {
          "output_type": "stream",
          "name": "stdout",
          "text": [
            "Iteration: \t24 / 100\n",
            "Confirmed: \t7\n",
            "Tentative: \t2\n",
            "Rejected: \t2\n"
          ]
        },
        {
          "output_type": "stream",
          "name": "stderr",
          "text": [
            "/usr/local/lib/python3.10/dist-packages/sklearn/base.py:1152: DataConversionWarning: A column-vector y was passed when a 1d array was expected. Please change the shape of y to (n_samples,), for example using ravel().\n",
            "  return fit_method(estimator, *args, **kwargs)\n"
          ]
        },
        {
          "output_type": "stream",
          "name": "stdout",
          "text": [
            "Iteration: \t25 / 100\n",
            "Confirmed: \t7\n",
            "Tentative: \t2\n",
            "Rejected: \t2\n"
          ]
        },
        {
          "output_type": "stream",
          "name": "stderr",
          "text": [
            "/usr/local/lib/python3.10/dist-packages/sklearn/base.py:1152: DataConversionWarning: A column-vector y was passed when a 1d array was expected. Please change the shape of y to (n_samples,), for example using ravel().\n",
            "  return fit_method(estimator, *args, **kwargs)\n"
          ]
        },
        {
          "output_type": "stream",
          "name": "stdout",
          "text": [
            "Iteration: \t26 / 100\n",
            "Confirmed: \t7\n",
            "Tentative: \t2\n",
            "Rejected: \t2\n"
          ]
        },
        {
          "output_type": "stream",
          "name": "stderr",
          "text": [
            "/usr/local/lib/python3.10/dist-packages/sklearn/base.py:1152: DataConversionWarning: A column-vector y was passed when a 1d array was expected. Please change the shape of y to (n_samples,), for example using ravel().\n",
            "  return fit_method(estimator, *args, **kwargs)\n"
          ]
        },
        {
          "output_type": "stream",
          "name": "stdout",
          "text": [
            "Iteration: \t27 / 100\n",
            "Confirmed: \t7\n",
            "Tentative: \t2\n",
            "Rejected: \t2\n"
          ]
        },
        {
          "output_type": "stream",
          "name": "stderr",
          "text": [
            "/usr/local/lib/python3.10/dist-packages/sklearn/base.py:1152: DataConversionWarning: A column-vector y was passed when a 1d array was expected. Please change the shape of y to (n_samples,), for example using ravel().\n",
            "  return fit_method(estimator, *args, **kwargs)\n"
          ]
        },
        {
          "output_type": "stream",
          "name": "stdout",
          "text": [
            "Iteration: \t28 / 100\n",
            "Confirmed: \t7\n",
            "Tentative: \t2\n",
            "Rejected: \t2\n"
          ]
        },
        {
          "output_type": "stream",
          "name": "stderr",
          "text": [
            "/usr/local/lib/python3.10/dist-packages/sklearn/base.py:1152: DataConversionWarning: A column-vector y was passed when a 1d array was expected. Please change the shape of y to (n_samples,), for example using ravel().\n",
            "  return fit_method(estimator, *args, **kwargs)\n"
          ]
        },
        {
          "output_type": "stream",
          "name": "stdout",
          "text": [
            "Iteration: \t29 / 100\n",
            "Confirmed: \t7\n",
            "Tentative: \t2\n",
            "Rejected: \t2\n"
          ]
        },
        {
          "output_type": "stream",
          "name": "stderr",
          "text": [
            "/usr/local/lib/python3.10/dist-packages/sklearn/base.py:1152: DataConversionWarning: A column-vector y was passed when a 1d array was expected. Please change the shape of y to (n_samples,), for example using ravel().\n",
            "  return fit_method(estimator, *args, **kwargs)\n"
          ]
        },
        {
          "output_type": "stream",
          "name": "stdout",
          "text": [
            "Iteration: \t30 / 100\n",
            "Confirmed: \t7\n",
            "Tentative: \t2\n",
            "Rejected: \t2\n"
          ]
        },
        {
          "output_type": "stream",
          "name": "stderr",
          "text": [
            "/usr/local/lib/python3.10/dist-packages/sklearn/base.py:1152: DataConversionWarning: A column-vector y was passed when a 1d array was expected. Please change the shape of y to (n_samples,), for example using ravel().\n",
            "  return fit_method(estimator, *args, **kwargs)\n"
          ]
        },
        {
          "output_type": "stream",
          "name": "stdout",
          "text": [
            "Iteration: \t31 / 100\n",
            "Confirmed: \t7\n",
            "Tentative: \t2\n",
            "Rejected: \t2\n"
          ]
        },
        {
          "output_type": "stream",
          "name": "stderr",
          "text": [
            "/usr/local/lib/python3.10/dist-packages/sklearn/base.py:1152: DataConversionWarning: A column-vector y was passed when a 1d array was expected. Please change the shape of y to (n_samples,), for example using ravel().\n",
            "  return fit_method(estimator, *args, **kwargs)\n"
          ]
        },
        {
          "output_type": "stream",
          "name": "stdout",
          "text": [
            "Iteration: \t32 / 100\n",
            "Confirmed: \t7\n",
            "Tentative: \t2\n",
            "Rejected: \t2\n"
          ]
        },
        {
          "output_type": "stream",
          "name": "stderr",
          "text": [
            "/usr/local/lib/python3.10/dist-packages/sklearn/base.py:1152: DataConversionWarning: A column-vector y was passed when a 1d array was expected. Please change the shape of y to (n_samples,), for example using ravel().\n",
            "  return fit_method(estimator, *args, **kwargs)\n"
          ]
        },
        {
          "output_type": "stream",
          "name": "stdout",
          "text": [
            "Iteration: \t33 / 100\n",
            "Confirmed: \t7\n",
            "Tentative: \t2\n",
            "Rejected: \t2\n"
          ]
        },
        {
          "output_type": "stream",
          "name": "stderr",
          "text": [
            "/usr/local/lib/python3.10/dist-packages/sklearn/base.py:1152: DataConversionWarning: A column-vector y was passed when a 1d array was expected. Please change the shape of y to (n_samples,), for example using ravel().\n",
            "  return fit_method(estimator, *args, **kwargs)\n"
          ]
        },
        {
          "output_type": "stream",
          "name": "stdout",
          "text": [
            "Iteration: \t34 / 100\n",
            "Confirmed: \t7\n",
            "Tentative: \t2\n",
            "Rejected: \t2\n"
          ]
        },
        {
          "output_type": "stream",
          "name": "stderr",
          "text": [
            "/usr/local/lib/python3.10/dist-packages/sklearn/base.py:1152: DataConversionWarning: A column-vector y was passed when a 1d array was expected. Please change the shape of y to (n_samples,), for example using ravel().\n",
            "  return fit_method(estimator, *args, **kwargs)\n"
          ]
        },
        {
          "output_type": "stream",
          "name": "stdout",
          "text": [
            "Iteration: \t35 / 100\n",
            "Confirmed: \t7\n",
            "Tentative: \t2\n",
            "Rejected: \t2\n"
          ]
        },
        {
          "output_type": "stream",
          "name": "stderr",
          "text": [
            "/usr/local/lib/python3.10/dist-packages/sklearn/base.py:1152: DataConversionWarning: A column-vector y was passed when a 1d array was expected. Please change the shape of y to (n_samples,), for example using ravel().\n",
            "  return fit_method(estimator, *args, **kwargs)\n"
          ]
        },
        {
          "output_type": "stream",
          "name": "stdout",
          "text": [
            "Iteration: \t36 / 100\n",
            "Confirmed: \t7\n",
            "Tentative: \t2\n",
            "Rejected: \t2\n"
          ]
        },
        {
          "output_type": "stream",
          "name": "stderr",
          "text": [
            "/usr/local/lib/python3.10/dist-packages/sklearn/base.py:1152: DataConversionWarning: A column-vector y was passed when a 1d array was expected. Please change the shape of y to (n_samples,), for example using ravel().\n",
            "  return fit_method(estimator, *args, **kwargs)\n"
          ]
        },
        {
          "output_type": "stream",
          "name": "stdout",
          "text": [
            "Iteration: \t37 / 100\n",
            "Confirmed: \t7\n",
            "Tentative: \t1\n",
            "Rejected: \t3\n"
          ]
        },
        {
          "output_type": "stream",
          "name": "stderr",
          "text": [
            "/usr/local/lib/python3.10/dist-packages/sklearn/base.py:1152: DataConversionWarning: A column-vector y was passed when a 1d array was expected. Please change the shape of y to (n_samples,), for example using ravel().\n",
            "  return fit_method(estimator, *args, **kwargs)\n"
          ]
        },
        {
          "output_type": "stream",
          "name": "stdout",
          "text": [
            "Iteration: \t38 / 100\n",
            "Confirmed: \t7\n",
            "Tentative: \t1\n",
            "Rejected: \t3\n"
          ]
        },
        {
          "output_type": "stream",
          "name": "stderr",
          "text": [
            "/usr/local/lib/python3.10/dist-packages/sklearn/base.py:1152: DataConversionWarning: A column-vector y was passed when a 1d array was expected. Please change the shape of y to (n_samples,), for example using ravel().\n",
            "  return fit_method(estimator, *args, **kwargs)\n"
          ]
        },
        {
          "output_type": "stream",
          "name": "stdout",
          "text": [
            "Iteration: \t39 / 100\n",
            "Confirmed: \t7\n",
            "Tentative: \t1\n",
            "Rejected: \t3\n"
          ]
        },
        {
          "output_type": "stream",
          "name": "stderr",
          "text": [
            "/usr/local/lib/python3.10/dist-packages/sklearn/base.py:1152: DataConversionWarning: A column-vector y was passed when a 1d array was expected. Please change the shape of y to (n_samples,), for example using ravel().\n",
            "  return fit_method(estimator, *args, **kwargs)\n"
          ]
        },
        {
          "output_type": "stream",
          "name": "stdout",
          "text": [
            "Iteration: \t40 / 100\n",
            "Confirmed: \t7\n",
            "Tentative: \t1\n",
            "Rejected: \t3\n"
          ]
        },
        {
          "output_type": "stream",
          "name": "stderr",
          "text": [
            "/usr/local/lib/python3.10/dist-packages/sklearn/base.py:1152: DataConversionWarning: A column-vector y was passed when a 1d array was expected. Please change the shape of y to (n_samples,), for example using ravel().\n",
            "  return fit_method(estimator, *args, **kwargs)\n"
          ]
        },
        {
          "output_type": "stream",
          "name": "stdout",
          "text": [
            "Iteration: \t41 / 100\n",
            "Confirmed: \t7\n",
            "Tentative: \t1\n",
            "Rejected: \t3\n"
          ]
        },
        {
          "output_type": "stream",
          "name": "stderr",
          "text": [
            "/usr/local/lib/python3.10/dist-packages/sklearn/base.py:1152: DataConversionWarning: A column-vector y was passed when a 1d array was expected. Please change the shape of y to (n_samples,), for example using ravel().\n",
            "  return fit_method(estimator, *args, **kwargs)\n"
          ]
        },
        {
          "output_type": "stream",
          "name": "stdout",
          "text": [
            "Iteration: \t42 / 100\n",
            "Confirmed: \t7\n",
            "Tentative: \t1\n",
            "Rejected: \t3\n"
          ]
        },
        {
          "output_type": "stream",
          "name": "stderr",
          "text": [
            "/usr/local/lib/python3.10/dist-packages/sklearn/base.py:1152: DataConversionWarning: A column-vector y was passed when a 1d array was expected. Please change the shape of y to (n_samples,), for example using ravel().\n",
            "  return fit_method(estimator, *args, **kwargs)\n"
          ]
        },
        {
          "output_type": "stream",
          "name": "stdout",
          "text": [
            "Iteration: \t43 / 100\n",
            "Confirmed: \t7\n",
            "Tentative: \t1\n",
            "Rejected: \t3\n"
          ]
        },
        {
          "output_type": "stream",
          "name": "stderr",
          "text": [
            "/usr/local/lib/python3.10/dist-packages/sklearn/base.py:1152: DataConversionWarning: A column-vector y was passed when a 1d array was expected. Please change the shape of y to (n_samples,), for example using ravel().\n",
            "  return fit_method(estimator, *args, **kwargs)\n"
          ]
        },
        {
          "output_type": "stream",
          "name": "stdout",
          "text": [
            "Iteration: \t44 / 100\n",
            "Confirmed: \t7\n",
            "Tentative: \t1\n",
            "Rejected: \t3\n"
          ]
        },
        {
          "output_type": "stream",
          "name": "stderr",
          "text": [
            "/usr/local/lib/python3.10/dist-packages/sklearn/base.py:1152: DataConversionWarning: A column-vector y was passed when a 1d array was expected. Please change the shape of y to (n_samples,), for example using ravel().\n",
            "  return fit_method(estimator, *args, **kwargs)\n"
          ]
        },
        {
          "output_type": "stream",
          "name": "stdout",
          "text": [
            "Iteration: \t45 / 100\n",
            "Confirmed: \t7\n",
            "Tentative: \t1\n",
            "Rejected: \t3\n"
          ]
        },
        {
          "output_type": "stream",
          "name": "stderr",
          "text": [
            "/usr/local/lib/python3.10/dist-packages/sklearn/base.py:1152: DataConversionWarning: A column-vector y was passed when a 1d array was expected. Please change the shape of y to (n_samples,), for example using ravel().\n",
            "  return fit_method(estimator, *args, **kwargs)\n"
          ]
        },
        {
          "output_type": "stream",
          "name": "stdout",
          "text": [
            "Iteration: \t46 / 100\n",
            "Confirmed: \t7\n",
            "Tentative: \t1\n",
            "Rejected: \t3\n"
          ]
        },
        {
          "output_type": "stream",
          "name": "stderr",
          "text": [
            "/usr/local/lib/python3.10/dist-packages/sklearn/base.py:1152: DataConversionWarning: A column-vector y was passed when a 1d array was expected. Please change the shape of y to (n_samples,), for example using ravel().\n",
            "  return fit_method(estimator, *args, **kwargs)\n"
          ]
        },
        {
          "output_type": "stream",
          "name": "stdout",
          "text": [
            "Iteration: \t47 / 100\n",
            "Confirmed: \t7\n",
            "Tentative: \t1\n",
            "Rejected: \t3\n"
          ]
        },
        {
          "output_type": "stream",
          "name": "stderr",
          "text": [
            "/usr/local/lib/python3.10/dist-packages/sklearn/base.py:1152: DataConversionWarning: A column-vector y was passed when a 1d array was expected. Please change the shape of y to (n_samples,), for example using ravel().\n",
            "  return fit_method(estimator, *args, **kwargs)\n"
          ]
        },
        {
          "output_type": "stream",
          "name": "stdout",
          "text": [
            "Iteration: \t48 / 100\n",
            "Confirmed: \t7\n",
            "Tentative: \t1\n",
            "Rejected: \t3\n"
          ]
        },
        {
          "output_type": "stream",
          "name": "stderr",
          "text": [
            "/usr/local/lib/python3.10/dist-packages/sklearn/base.py:1152: DataConversionWarning: A column-vector y was passed when a 1d array was expected. Please change the shape of y to (n_samples,), for example using ravel().\n",
            "  return fit_method(estimator, *args, **kwargs)\n"
          ]
        },
        {
          "output_type": "stream",
          "name": "stdout",
          "text": [
            "Iteration: \t49 / 100\n",
            "Confirmed: \t7\n",
            "Tentative: \t1\n",
            "Rejected: \t3\n"
          ]
        },
        {
          "output_type": "stream",
          "name": "stderr",
          "text": [
            "/usr/local/lib/python3.10/dist-packages/sklearn/base.py:1152: DataConversionWarning: A column-vector y was passed when a 1d array was expected. Please change the shape of y to (n_samples,), for example using ravel().\n",
            "  return fit_method(estimator, *args, **kwargs)\n"
          ]
        },
        {
          "output_type": "stream",
          "name": "stdout",
          "text": [
            "Iteration: \t50 / 100\n",
            "Confirmed: \t7\n",
            "Tentative: \t1\n",
            "Rejected: \t3\n"
          ]
        },
        {
          "output_type": "stream",
          "name": "stderr",
          "text": [
            "/usr/local/lib/python3.10/dist-packages/sklearn/base.py:1152: DataConversionWarning: A column-vector y was passed when a 1d array was expected. Please change the shape of y to (n_samples,), for example using ravel().\n",
            "  return fit_method(estimator, *args, **kwargs)\n"
          ]
        },
        {
          "output_type": "stream",
          "name": "stdout",
          "text": [
            "Iteration: \t51 / 100\n",
            "Confirmed: \t7\n",
            "Tentative: \t1\n",
            "Rejected: \t3\n"
          ]
        },
        {
          "output_type": "stream",
          "name": "stderr",
          "text": [
            "/usr/local/lib/python3.10/dist-packages/sklearn/base.py:1152: DataConversionWarning: A column-vector y was passed when a 1d array was expected. Please change the shape of y to (n_samples,), for example using ravel().\n",
            "  return fit_method(estimator, *args, **kwargs)\n"
          ]
        },
        {
          "output_type": "stream",
          "name": "stdout",
          "text": [
            "Iteration: \t52 / 100\n",
            "Confirmed: \t7\n",
            "Tentative: \t1\n",
            "Rejected: \t3\n"
          ]
        },
        {
          "output_type": "stream",
          "name": "stderr",
          "text": [
            "/usr/local/lib/python3.10/dist-packages/sklearn/base.py:1152: DataConversionWarning: A column-vector y was passed when a 1d array was expected. Please change the shape of y to (n_samples,), for example using ravel().\n",
            "  return fit_method(estimator, *args, **kwargs)\n"
          ]
        },
        {
          "output_type": "stream",
          "name": "stdout",
          "text": [
            "Iteration: \t53 / 100\n",
            "Confirmed: \t7\n",
            "Tentative: \t1\n",
            "Rejected: \t3\n"
          ]
        },
        {
          "output_type": "stream",
          "name": "stderr",
          "text": [
            "/usr/local/lib/python3.10/dist-packages/sklearn/base.py:1152: DataConversionWarning: A column-vector y was passed when a 1d array was expected. Please change the shape of y to (n_samples,), for example using ravel().\n",
            "  return fit_method(estimator, *args, **kwargs)\n"
          ]
        },
        {
          "output_type": "stream",
          "name": "stdout",
          "text": [
            "Iteration: \t54 / 100\n",
            "Confirmed: \t7\n",
            "Tentative: \t1\n",
            "Rejected: \t3\n"
          ]
        },
        {
          "output_type": "stream",
          "name": "stderr",
          "text": [
            "/usr/local/lib/python3.10/dist-packages/sklearn/base.py:1152: DataConversionWarning: A column-vector y was passed when a 1d array was expected. Please change the shape of y to (n_samples,), for example using ravel().\n",
            "  return fit_method(estimator, *args, **kwargs)\n"
          ]
        },
        {
          "output_type": "stream",
          "name": "stdout",
          "text": [
            "Iteration: \t55 / 100\n",
            "Confirmed: \t7\n",
            "Tentative: \t1\n",
            "Rejected: \t3\n"
          ]
        },
        {
          "output_type": "stream",
          "name": "stderr",
          "text": [
            "/usr/local/lib/python3.10/dist-packages/sklearn/base.py:1152: DataConversionWarning: A column-vector y was passed when a 1d array was expected. Please change the shape of y to (n_samples,), for example using ravel().\n",
            "  return fit_method(estimator, *args, **kwargs)\n"
          ]
        },
        {
          "output_type": "stream",
          "name": "stdout",
          "text": [
            "Iteration: \t56 / 100\n",
            "Confirmed: \t7\n",
            "Tentative: \t1\n",
            "Rejected: \t3\n"
          ]
        },
        {
          "output_type": "stream",
          "name": "stderr",
          "text": [
            "/usr/local/lib/python3.10/dist-packages/sklearn/base.py:1152: DataConversionWarning: A column-vector y was passed when a 1d array was expected. Please change the shape of y to (n_samples,), for example using ravel().\n",
            "  return fit_method(estimator, *args, **kwargs)\n"
          ]
        },
        {
          "output_type": "stream",
          "name": "stdout",
          "text": [
            "Iteration: \t57 / 100\n",
            "Confirmed: \t7\n",
            "Tentative: \t1\n",
            "Rejected: \t3\n"
          ]
        },
        {
          "output_type": "stream",
          "name": "stderr",
          "text": [
            "/usr/local/lib/python3.10/dist-packages/sklearn/base.py:1152: DataConversionWarning: A column-vector y was passed when a 1d array was expected. Please change the shape of y to (n_samples,), for example using ravel().\n",
            "  return fit_method(estimator, *args, **kwargs)\n"
          ]
        },
        {
          "output_type": "stream",
          "name": "stdout",
          "text": [
            "Iteration: \t58 / 100\n",
            "Confirmed: \t7\n",
            "Tentative: \t1\n",
            "Rejected: \t3\n"
          ]
        },
        {
          "output_type": "stream",
          "name": "stderr",
          "text": [
            "/usr/local/lib/python3.10/dist-packages/sklearn/base.py:1152: DataConversionWarning: A column-vector y was passed when a 1d array was expected. Please change the shape of y to (n_samples,), for example using ravel().\n",
            "  return fit_method(estimator, *args, **kwargs)\n"
          ]
        },
        {
          "output_type": "stream",
          "name": "stdout",
          "text": [
            "Iteration: \t59 / 100\n",
            "Confirmed: \t7\n",
            "Tentative: \t1\n",
            "Rejected: \t3\n"
          ]
        },
        {
          "output_type": "stream",
          "name": "stderr",
          "text": [
            "/usr/local/lib/python3.10/dist-packages/sklearn/base.py:1152: DataConversionWarning: A column-vector y was passed when a 1d array was expected. Please change the shape of y to (n_samples,), for example using ravel().\n",
            "  return fit_method(estimator, *args, **kwargs)\n"
          ]
        },
        {
          "output_type": "stream",
          "name": "stdout",
          "text": [
            "Iteration: \t60 / 100\n",
            "Confirmed: \t7\n",
            "Tentative: \t1\n",
            "Rejected: \t3\n"
          ]
        },
        {
          "output_type": "stream",
          "name": "stderr",
          "text": [
            "/usr/local/lib/python3.10/dist-packages/sklearn/base.py:1152: DataConversionWarning: A column-vector y was passed when a 1d array was expected. Please change the shape of y to (n_samples,), for example using ravel().\n",
            "  return fit_method(estimator, *args, **kwargs)\n"
          ]
        },
        {
          "output_type": "stream",
          "name": "stdout",
          "text": [
            "Iteration: \t61 / 100\n",
            "Confirmed: \t7\n",
            "Tentative: \t1\n",
            "Rejected: \t3\n"
          ]
        },
        {
          "output_type": "stream",
          "name": "stderr",
          "text": [
            "/usr/local/lib/python3.10/dist-packages/sklearn/base.py:1152: DataConversionWarning: A column-vector y was passed when a 1d array was expected. Please change the shape of y to (n_samples,), for example using ravel().\n",
            "  return fit_method(estimator, *args, **kwargs)\n"
          ]
        },
        {
          "output_type": "stream",
          "name": "stdout",
          "text": [
            "Iteration: \t62 / 100\n",
            "Confirmed: \t7\n",
            "Tentative: \t1\n",
            "Rejected: \t3\n"
          ]
        },
        {
          "output_type": "stream",
          "name": "stderr",
          "text": [
            "/usr/local/lib/python3.10/dist-packages/sklearn/base.py:1152: DataConversionWarning: A column-vector y was passed when a 1d array was expected. Please change the shape of y to (n_samples,), for example using ravel().\n",
            "  return fit_method(estimator, *args, **kwargs)\n"
          ]
        },
        {
          "output_type": "stream",
          "name": "stdout",
          "text": [
            "Iteration: \t63 / 100\n",
            "Confirmed: \t7\n",
            "Tentative: \t1\n",
            "Rejected: \t3\n"
          ]
        },
        {
          "output_type": "stream",
          "name": "stderr",
          "text": [
            "/usr/local/lib/python3.10/dist-packages/sklearn/base.py:1152: DataConversionWarning: A column-vector y was passed when a 1d array was expected. Please change the shape of y to (n_samples,), for example using ravel().\n",
            "  return fit_method(estimator, *args, **kwargs)\n"
          ]
        },
        {
          "output_type": "stream",
          "name": "stdout",
          "text": [
            "Iteration: \t64 / 100\n",
            "Confirmed: \t7\n",
            "Tentative: \t1\n",
            "Rejected: \t3\n"
          ]
        },
        {
          "output_type": "stream",
          "name": "stderr",
          "text": [
            "/usr/local/lib/python3.10/dist-packages/sklearn/base.py:1152: DataConversionWarning: A column-vector y was passed when a 1d array was expected. Please change the shape of y to (n_samples,), for example using ravel().\n",
            "  return fit_method(estimator, *args, **kwargs)\n"
          ]
        },
        {
          "output_type": "stream",
          "name": "stdout",
          "text": [
            "Iteration: \t65 / 100\n",
            "Confirmed: \t7\n",
            "Tentative: \t1\n",
            "Rejected: \t3\n"
          ]
        },
        {
          "output_type": "stream",
          "name": "stderr",
          "text": [
            "/usr/local/lib/python3.10/dist-packages/sklearn/base.py:1152: DataConversionWarning: A column-vector y was passed when a 1d array was expected. Please change the shape of y to (n_samples,), for example using ravel().\n",
            "  return fit_method(estimator, *args, **kwargs)\n"
          ]
        },
        {
          "output_type": "stream",
          "name": "stdout",
          "text": [
            "Iteration: \t66 / 100\n",
            "Confirmed: \t7\n",
            "Tentative: \t1\n",
            "Rejected: \t3\n"
          ]
        },
        {
          "output_type": "stream",
          "name": "stderr",
          "text": [
            "/usr/local/lib/python3.10/dist-packages/sklearn/base.py:1152: DataConversionWarning: A column-vector y was passed when a 1d array was expected. Please change the shape of y to (n_samples,), for example using ravel().\n",
            "  return fit_method(estimator, *args, **kwargs)\n"
          ]
        },
        {
          "output_type": "stream",
          "name": "stdout",
          "text": [
            "Iteration: \t67 / 100\n",
            "Confirmed: \t7\n",
            "Tentative: \t1\n",
            "Rejected: \t3\n"
          ]
        },
        {
          "output_type": "stream",
          "name": "stderr",
          "text": [
            "/usr/local/lib/python3.10/dist-packages/sklearn/base.py:1152: DataConversionWarning: A column-vector y was passed when a 1d array was expected. Please change the shape of y to (n_samples,), for example using ravel().\n",
            "  return fit_method(estimator, *args, **kwargs)\n"
          ]
        },
        {
          "output_type": "stream",
          "name": "stdout",
          "text": [
            "Iteration: \t68 / 100\n",
            "Confirmed: \t7\n",
            "Tentative: \t1\n",
            "Rejected: \t3\n"
          ]
        },
        {
          "output_type": "stream",
          "name": "stderr",
          "text": [
            "/usr/local/lib/python3.10/dist-packages/sklearn/base.py:1152: DataConversionWarning: A column-vector y was passed when a 1d array was expected. Please change the shape of y to (n_samples,), for example using ravel().\n",
            "  return fit_method(estimator, *args, **kwargs)\n"
          ]
        },
        {
          "output_type": "stream",
          "name": "stdout",
          "text": [
            "Iteration: \t69 / 100\n",
            "Confirmed: \t7\n",
            "Tentative: \t1\n",
            "Rejected: \t3\n"
          ]
        },
        {
          "output_type": "stream",
          "name": "stderr",
          "text": [
            "/usr/local/lib/python3.10/dist-packages/sklearn/base.py:1152: DataConversionWarning: A column-vector y was passed when a 1d array was expected. Please change the shape of y to (n_samples,), for example using ravel().\n",
            "  return fit_method(estimator, *args, **kwargs)\n"
          ]
        },
        {
          "output_type": "stream",
          "name": "stdout",
          "text": [
            "Iteration: \t70 / 100\n",
            "Confirmed: \t7\n",
            "Tentative: \t1\n",
            "Rejected: \t3\n"
          ]
        },
        {
          "output_type": "stream",
          "name": "stderr",
          "text": [
            "/usr/local/lib/python3.10/dist-packages/sklearn/base.py:1152: DataConversionWarning: A column-vector y was passed when a 1d array was expected. Please change the shape of y to (n_samples,), for example using ravel().\n",
            "  return fit_method(estimator, *args, **kwargs)\n"
          ]
        },
        {
          "output_type": "stream",
          "name": "stdout",
          "text": [
            "Iteration: \t71 / 100\n",
            "Confirmed: \t7\n",
            "Tentative: \t1\n",
            "Rejected: \t3\n"
          ]
        },
        {
          "output_type": "stream",
          "name": "stderr",
          "text": [
            "/usr/local/lib/python3.10/dist-packages/sklearn/base.py:1152: DataConversionWarning: A column-vector y was passed when a 1d array was expected. Please change the shape of y to (n_samples,), for example using ravel().\n",
            "  return fit_method(estimator, *args, **kwargs)\n"
          ]
        },
        {
          "output_type": "stream",
          "name": "stdout",
          "text": [
            "Iteration: \t72 / 100\n",
            "Confirmed: \t7\n",
            "Tentative: \t1\n",
            "Rejected: \t3\n"
          ]
        },
        {
          "output_type": "stream",
          "name": "stderr",
          "text": [
            "/usr/local/lib/python3.10/dist-packages/sklearn/base.py:1152: DataConversionWarning: A column-vector y was passed when a 1d array was expected. Please change the shape of y to (n_samples,), for example using ravel().\n",
            "  return fit_method(estimator, *args, **kwargs)\n"
          ]
        },
        {
          "output_type": "stream",
          "name": "stdout",
          "text": [
            "Iteration: \t73 / 100\n",
            "Confirmed: \t7\n",
            "Tentative: \t1\n",
            "Rejected: \t3\n"
          ]
        },
        {
          "output_type": "stream",
          "name": "stderr",
          "text": [
            "/usr/local/lib/python3.10/dist-packages/sklearn/base.py:1152: DataConversionWarning: A column-vector y was passed when a 1d array was expected. Please change the shape of y to (n_samples,), for example using ravel().\n",
            "  return fit_method(estimator, *args, **kwargs)\n"
          ]
        },
        {
          "output_type": "stream",
          "name": "stdout",
          "text": [
            "Iteration: \t74 / 100\n",
            "Confirmed: \t7\n",
            "Tentative: \t1\n",
            "Rejected: \t3\n"
          ]
        },
        {
          "output_type": "stream",
          "name": "stderr",
          "text": [
            "/usr/local/lib/python3.10/dist-packages/sklearn/base.py:1152: DataConversionWarning: A column-vector y was passed when a 1d array was expected. Please change the shape of y to (n_samples,), for example using ravel().\n",
            "  return fit_method(estimator, *args, **kwargs)\n"
          ]
        },
        {
          "output_type": "stream",
          "name": "stdout",
          "text": [
            "Iteration: \t75 / 100\n",
            "Confirmed: \t7\n",
            "Tentative: \t1\n",
            "Rejected: \t3\n"
          ]
        },
        {
          "output_type": "stream",
          "name": "stderr",
          "text": [
            "/usr/local/lib/python3.10/dist-packages/sklearn/base.py:1152: DataConversionWarning: A column-vector y was passed when a 1d array was expected. Please change the shape of y to (n_samples,), for example using ravel().\n",
            "  return fit_method(estimator, *args, **kwargs)\n"
          ]
        },
        {
          "output_type": "stream",
          "name": "stdout",
          "text": [
            "Iteration: \t76 / 100\n",
            "Confirmed: \t7\n",
            "Tentative: \t1\n",
            "Rejected: \t3\n"
          ]
        },
        {
          "output_type": "stream",
          "name": "stderr",
          "text": [
            "/usr/local/lib/python3.10/dist-packages/sklearn/base.py:1152: DataConversionWarning: A column-vector y was passed when a 1d array was expected. Please change the shape of y to (n_samples,), for example using ravel().\n",
            "  return fit_method(estimator, *args, **kwargs)\n"
          ]
        },
        {
          "output_type": "stream",
          "name": "stdout",
          "text": [
            "Iteration: \t77 / 100\n",
            "Confirmed: \t7\n",
            "Tentative: \t1\n",
            "Rejected: \t3\n"
          ]
        },
        {
          "output_type": "stream",
          "name": "stderr",
          "text": [
            "/usr/local/lib/python3.10/dist-packages/sklearn/base.py:1152: DataConversionWarning: A column-vector y was passed when a 1d array was expected. Please change the shape of y to (n_samples,), for example using ravel().\n",
            "  return fit_method(estimator, *args, **kwargs)\n"
          ]
        },
        {
          "output_type": "stream",
          "name": "stdout",
          "text": [
            "Iteration: \t78 / 100\n",
            "Confirmed: \t7\n",
            "Tentative: \t1\n",
            "Rejected: \t3\n"
          ]
        },
        {
          "output_type": "stream",
          "name": "stderr",
          "text": [
            "/usr/local/lib/python3.10/dist-packages/sklearn/base.py:1152: DataConversionWarning: A column-vector y was passed when a 1d array was expected. Please change the shape of y to (n_samples,), for example using ravel().\n",
            "  return fit_method(estimator, *args, **kwargs)\n"
          ]
        },
        {
          "output_type": "stream",
          "name": "stdout",
          "text": [
            "Iteration: \t79 / 100\n",
            "Confirmed: \t7\n",
            "Tentative: \t1\n",
            "Rejected: \t3\n"
          ]
        },
        {
          "output_type": "stream",
          "name": "stderr",
          "text": [
            "/usr/local/lib/python3.10/dist-packages/sklearn/base.py:1152: DataConversionWarning: A column-vector y was passed when a 1d array was expected. Please change the shape of y to (n_samples,), for example using ravel().\n",
            "  return fit_method(estimator, *args, **kwargs)\n"
          ]
        },
        {
          "output_type": "stream",
          "name": "stdout",
          "text": [
            "Iteration: \t80 / 100\n",
            "Confirmed: \t7\n",
            "Tentative: \t1\n",
            "Rejected: \t3\n"
          ]
        },
        {
          "output_type": "stream",
          "name": "stderr",
          "text": [
            "/usr/local/lib/python3.10/dist-packages/sklearn/base.py:1152: DataConversionWarning: A column-vector y was passed when a 1d array was expected. Please change the shape of y to (n_samples,), for example using ravel().\n",
            "  return fit_method(estimator, *args, **kwargs)\n"
          ]
        },
        {
          "output_type": "stream",
          "name": "stdout",
          "text": [
            "Iteration: \t81 / 100\n",
            "Confirmed: \t7\n",
            "Tentative: \t1\n",
            "Rejected: \t3\n"
          ]
        },
        {
          "output_type": "stream",
          "name": "stderr",
          "text": [
            "/usr/local/lib/python3.10/dist-packages/sklearn/base.py:1152: DataConversionWarning: A column-vector y was passed when a 1d array was expected. Please change the shape of y to (n_samples,), for example using ravel().\n",
            "  return fit_method(estimator, *args, **kwargs)\n"
          ]
        },
        {
          "output_type": "stream",
          "name": "stdout",
          "text": [
            "Iteration: \t82 / 100\n",
            "Confirmed: \t7\n",
            "Tentative: \t1\n",
            "Rejected: \t3\n"
          ]
        },
        {
          "output_type": "stream",
          "name": "stderr",
          "text": [
            "/usr/local/lib/python3.10/dist-packages/sklearn/base.py:1152: DataConversionWarning: A column-vector y was passed when a 1d array was expected. Please change the shape of y to (n_samples,), for example using ravel().\n",
            "  return fit_method(estimator, *args, **kwargs)\n"
          ]
        },
        {
          "output_type": "stream",
          "name": "stdout",
          "text": [
            "Iteration: \t83 / 100\n",
            "Confirmed: \t7\n",
            "Tentative: \t1\n",
            "Rejected: \t3\n"
          ]
        },
        {
          "output_type": "stream",
          "name": "stderr",
          "text": [
            "/usr/local/lib/python3.10/dist-packages/sklearn/base.py:1152: DataConversionWarning: A column-vector y was passed when a 1d array was expected. Please change the shape of y to (n_samples,), for example using ravel().\n",
            "  return fit_method(estimator, *args, **kwargs)\n"
          ]
        },
        {
          "output_type": "stream",
          "name": "stdout",
          "text": [
            "Iteration: \t84 / 100\n",
            "Confirmed: \t7\n",
            "Tentative: \t1\n",
            "Rejected: \t3\n"
          ]
        },
        {
          "output_type": "stream",
          "name": "stderr",
          "text": [
            "/usr/local/lib/python3.10/dist-packages/sklearn/base.py:1152: DataConversionWarning: A column-vector y was passed when a 1d array was expected. Please change the shape of y to (n_samples,), for example using ravel().\n",
            "  return fit_method(estimator, *args, **kwargs)\n"
          ]
        },
        {
          "output_type": "stream",
          "name": "stdout",
          "text": [
            "Iteration: \t85 / 100\n",
            "Confirmed: \t7\n",
            "Tentative: \t1\n",
            "Rejected: \t3\n"
          ]
        },
        {
          "output_type": "stream",
          "name": "stderr",
          "text": [
            "/usr/local/lib/python3.10/dist-packages/sklearn/base.py:1152: DataConversionWarning: A column-vector y was passed when a 1d array was expected. Please change the shape of y to (n_samples,), for example using ravel().\n",
            "  return fit_method(estimator, *args, **kwargs)\n"
          ]
        },
        {
          "output_type": "stream",
          "name": "stdout",
          "text": [
            "Iteration: \t86 / 100\n",
            "Confirmed: \t7\n",
            "Tentative: \t1\n",
            "Rejected: \t3\n"
          ]
        },
        {
          "output_type": "stream",
          "name": "stderr",
          "text": [
            "/usr/local/lib/python3.10/dist-packages/sklearn/base.py:1152: DataConversionWarning: A column-vector y was passed when a 1d array was expected. Please change the shape of y to (n_samples,), for example using ravel().\n",
            "  return fit_method(estimator, *args, **kwargs)\n"
          ]
        },
        {
          "output_type": "stream",
          "name": "stdout",
          "text": [
            "Iteration: \t87 / 100\n",
            "Confirmed: \t7\n",
            "Tentative: \t1\n",
            "Rejected: \t3\n"
          ]
        },
        {
          "output_type": "stream",
          "name": "stderr",
          "text": [
            "/usr/local/lib/python3.10/dist-packages/sklearn/base.py:1152: DataConversionWarning: A column-vector y was passed when a 1d array was expected. Please change the shape of y to (n_samples,), for example using ravel().\n",
            "  return fit_method(estimator, *args, **kwargs)\n"
          ]
        },
        {
          "output_type": "stream",
          "name": "stdout",
          "text": [
            "Iteration: \t88 / 100\n",
            "Confirmed: \t7\n",
            "Tentative: \t1\n",
            "Rejected: \t3\n"
          ]
        },
        {
          "output_type": "stream",
          "name": "stderr",
          "text": [
            "/usr/local/lib/python3.10/dist-packages/sklearn/base.py:1152: DataConversionWarning: A column-vector y was passed when a 1d array was expected. Please change the shape of y to (n_samples,), for example using ravel().\n",
            "  return fit_method(estimator, *args, **kwargs)\n"
          ]
        },
        {
          "output_type": "stream",
          "name": "stdout",
          "text": [
            "Iteration: \t89 / 100\n",
            "Confirmed: \t7\n",
            "Tentative: \t1\n",
            "Rejected: \t3\n"
          ]
        },
        {
          "output_type": "stream",
          "name": "stderr",
          "text": [
            "/usr/local/lib/python3.10/dist-packages/sklearn/base.py:1152: DataConversionWarning: A column-vector y was passed when a 1d array was expected. Please change the shape of y to (n_samples,), for example using ravel().\n",
            "  return fit_method(estimator, *args, **kwargs)\n"
          ]
        },
        {
          "output_type": "stream",
          "name": "stdout",
          "text": [
            "Iteration: \t90 / 100\n",
            "Confirmed: \t7\n",
            "Tentative: \t1\n",
            "Rejected: \t3\n"
          ]
        },
        {
          "output_type": "stream",
          "name": "stderr",
          "text": [
            "/usr/local/lib/python3.10/dist-packages/sklearn/base.py:1152: DataConversionWarning: A column-vector y was passed when a 1d array was expected. Please change the shape of y to (n_samples,), for example using ravel().\n",
            "  return fit_method(estimator, *args, **kwargs)\n"
          ]
        },
        {
          "output_type": "stream",
          "name": "stdout",
          "text": [
            "Iteration: \t91 / 100\n",
            "Confirmed: \t7\n",
            "Tentative: \t1\n",
            "Rejected: \t3\n"
          ]
        },
        {
          "output_type": "stream",
          "name": "stderr",
          "text": [
            "/usr/local/lib/python3.10/dist-packages/sklearn/base.py:1152: DataConversionWarning: A column-vector y was passed when a 1d array was expected. Please change the shape of y to (n_samples,), for example using ravel().\n",
            "  return fit_method(estimator, *args, **kwargs)\n"
          ]
        },
        {
          "output_type": "stream",
          "name": "stdout",
          "text": [
            "Iteration: \t92 / 100\n",
            "Confirmed: \t7\n",
            "Tentative: \t1\n",
            "Rejected: \t3\n"
          ]
        },
        {
          "output_type": "stream",
          "name": "stderr",
          "text": [
            "/usr/local/lib/python3.10/dist-packages/sklearn/base.py:1152: DataConversionWarning: A column-vector y was passed when a 1d array was expected. Please change the shape of y to (n_samples,), for example using ravel().\n",
            "  return fit_method(estimator, *args, **kwargs)\n"
          ]
        },
        {
          "output_type": "stream",
          "name": "stdout",
          "text": [
            "Iteration: \t93 / 100\n",
            "Confirmed: \t7\n",
            "Tentative: \t1\n",
            "Rejected: \t3\n"
          ]
        },
        {
          "output_type": "stream",
          "name": "stderr",
          "text": [
            "/usr/local/lib/python3.10/dist-packages/sklearn/base.py:1152: DataConversionWarning: A column-vector y was passed when a 1d array was expected. Please change the shape of y to (n_samples,), for example using ravel().\n",
            "  return fit_method(estimator, *args, **kwargs)\n"
          ]
        },
        {
          "output_type": "stream",
          "name": "stdout",
          "text": [
            "Iteration: \t94 / 100\n",
            "Confirmed: \t7\n",
            "Tentative: \t1\n",
            "Rejected: \t3\n"
          ]
        },
        {
          "output_type": "stream",
          "name": "stderr",
          "text": [
            "/usr/local/lib/python3.10/dist-packages/sklearn/base.py:1152: DataConversionWarning: A column-vector y was passed when a 1d array was expected. Please change the shape of y to (n_samples,), for example using ravel().\n",
            "  return fit_method(estimator, *args, **kwargs)\n"
          ]
        },
        {
          "output_type": "stream",
          "name": "stdout",
          "text": [
            "Iteration: \t95 / 100\n",
            "Confirmed: \t7\n",
            "Tentative: \t1\n",
            "Rejected: \t3\n"
          ]
        },
        {
          "output_type": "stream",
          "name": "stderr",
          "text": [
            "/usr/local/lib/python3.10/dist-packages/sklearn/base.py:1152: DataConversionWarning: A column-vector y was passed when a 1d array was expected. Please change the shape of y to (n_samples,), for example using ravel().\n",
            "  return fit_method(estimator, *args, **kwargs)\n"
          ]
        },
        {
          "output_type": "stream",
          "name": "stdout",
          "text": [
            "Iteration: \t96 / 100\n",
            "Confirmed: \t7\n",
            "Tentative: \t1\n",
            "Rejected: \t3\n"
          ]
        },
        {
          "output_type": "stream",
          "name": "stderr",
          "text": [
            "/usr/local/lib/python3.10/dist-packages/sklearn/base.py:1152: DataConversionWarning: A column-vector y was passed when a 1d array was expected. Please change the shape of y to (n_samples,), for example using ravel().\n",
            "  return fit_method(estimator, *args, **kwargs)\n"
          ]
        },
        {
          "output_type": "stream",
          "name": "stdout",
          "text": [
            "Iteration: \t97 / 100\n",
            "Confirmed: \t7\n",
            "Tentative: \t1\n",
            "Rejected: \t3\n"
          ]
        },
        {
          "output_type": "stream",
          "name": "stderr",
          "text": [
            "/usr/local/lib/python3.10/dist-packages/sklearn/base.py:1152: DataConversionWarning: A column-vector y was passed when a 1d array was expected. Please change the shape of y to (n_samples,), for example using ravel().\n",
            "  return fit_method(estimator, *args, **kwargs)\n"
          ]
        },
        {
          "output_type": "stream",
          "name": "stdout",
          "text": [
            "Iteration: \t98 / 100\n",
            "Confirmed: \t7\n",
            "Tentative: \t1\n",
            "Rejected: \t3\n"
          ]
        },
        {
          "output_type": "stream",
          "name": "stderr",
          "text": [
            "/usr/local/lib/python3.10/dist-packages/sklearn/base.py:1152: DataConversionWarning: A column-vector y was passed when a 1d array was expected. Please change the shape of y to (n_samples,), for example using ravel().\n",
            "  return fit_method(estimator, *args, **kwargs)\n"
          ]
        },
        {
          "output_type": "stream",
          "name": "stdout",
          "text": [
            "Iteration: \t99 / 100\n",
            "Confirmed: \t7\n",
            "Tentative: \t1\n",
            "Rejected: \t3\n",
            "\n",
            "\n",
            "BorutaPy finished running.\n",
            "\n",
            "Iteration: \t100 / 100\n",
            "Confirmed: \t7\n",
            "Tentative: \t0\n",
            "Rejected: \t4\n",
            "Selected features by Boruta:\n",
            "['fixed_acidity', 'volatile_acidity', 'chlorides', 'free_sulfur_dioxide', 'total_sulfur_dioxide', 'density', 'alcohol']\n"
          ]
        }
      ]
    },
    {
      "cell_type": "markdown",
      "source": [
        "## 3.3 Oversampling to Balance Classes"
      ],
      "metadata": {
        "id": "Y8IPBxayaW57"
      }
    },
    {
      "cell_type": "markdown",
      "source": [
        "To tackle the class imbalance problem inherent in our wine quality dataset, we utilize the Synthetic Minority Over-sampling Technique (SMOTE). This technique generates synthetic samples from the minority class to ensure that our model is not biased towards the majority class, improving its ability to generalize across all quality levels.\n",
        "\n",
        "SMOTE is configured with a lower number of neighbors to adapt to the size of the smallest minority class in our dataset. This is crucial for creating a balanced class distribution effectively."
      ],
      "metadata": {
        "id": "LkNKKqVuKEJ2"
      }
    },
    {
      "cell_type": "code",
      "source": [
        "# Initialize SMOTE with a lower number of neighbors\n",
        "smote = SMOTE(random_state=42, k_neighbors=2) # Set k_neighbors to a value less than or equal to the smallest minority class size\n",
        "\n",
        "# Apply SMOTE to the reduced feature set\n",
        "X_resampled, y_resampled = smote.fit_resample(X_boruta, y_train)\n",
        "\n",
        "# Extract the values from the DataFrame into a 1D array\n",
        "y_resampled_array = y_resampled.values.ravel()\n",
        "\n",
        "# Check the distribution of the classes after resampling\n",
        "sns.countplot(x=y_resampled_array) # Pass the 1D array to countplot\n",
        "plt.title(\"Distribution of Wine Quality After SMOTE\")\n",
        "plt.show()"
      ],
      "metadata": {
        "colab": {
          "base_uri": "https://localhost:8080/",
          "height": 0
        },
        "id": "6reGnWMhTu8W",
        "outputId": "5ed557c3-4905-413b-921d-03d6632e38c3"
      },
      "execution_count": 83,
      "outputs": [
        {
          "output_type": "display_data",
          "data": {
            "text/plain": [
              "<Figure size 640x480 with 1 Axes>"
            ],
            "image/png": "[encoded data removed]"
          },
          "metadata": {}
        }
      ]
    },
    {
      "cell_type": "markdown",
      "source": [
        "# 4. Model Training"
      ],
      "metadata": {
        "id": "MgWh11boaqTp"
      }
    },
    {
      "cell_type": "markdown",
      "source": [
        "## 4.1 Model Optimization with Hyperparameter Tuning\n"
      ],
      "metadata": {
        "id": "DhgdFcQnKz7G"
      }
    },
    {
      "cell_type": "markdown",
      "source": [
        "To optimize our predictive models for classifying wine quality, we employ a comprehensive approach using hyperparameter tuning via RandomizedSearchCV. This method allows us to explore a wide range of parameter settings for multiple algorithms, ensuring that we identify the most effective configurations for our models.\n",
        "\n",
        "Configuration and Execution of Hyperparameter Search\n",
        "We configure and execute a randomized search for several popular machine learning models, each with a specific set of parameters to explore:\n",
        "\n",
        "*  **Random Forest**: A versatile ensemble method that is effective for both classification and regression tasks.\n",
        "*   **Support Vector Machine (SVM)**: Known for its effectiveness in high-dimensional spaces and its ability to model non-linear decision boundaries.\n",
        "*   **K-Nearest Neighbors (KNN)**: A simple yet powerful non-parametric classifier that makes predictions based on the proximity to other data points.\n",
        "*   **Multilayer Perceptron (MLP)**: A type of neural network that is particularly good at capturing complex relationships in data.\n",
        "*   **Decision Tree**: Provides a foundation for important ensemble methods and is easy to interpret.\n",
        "*   **Gradient Boosting**: An advanced ensemble technique that combines multiple weak learning models to create a strong predictive model."
      ],
      "metadata": {
        "id": "q5PT_cOeK3k3"
      }
    },
    {
      "cell_type": "code",
      "source": [
        "# Define models with pipelines and hyperparameter searches\n",
        "\n",
        "# Random Forest\n",
        "rf_params = {\n",
        "    'n_estimators': randint(50, 200),\n",
        "    'max_depth': randint(5, 20),\n",
        "    'min_samples_split': randint(2, 10),\n",
        "    'min_samples_leaf': randint(1, 10)\n",
        "}\n",
        "rf = RandomForestClassifier()\n",
        "rf_random_search = RandomizedSearchCV(rf, param_distributions=rf_params, n_iter=20, cv=3, scoring='accuracy', random_state=42, n_jobs=-1)\n",
        "\n",
        "# Support Vector Machine\n",
        "svm_params = {\n",
        "    'C': uniform(0.1, 5),\n",
        "    'gamma': ['scale', 'auto'],\n",
        "    'kernel': ['rbf', 'poly']\n",
        "}\n",
        "svm = SVC(probability=True)\n",
        "svm_random_search = RandomizedSearchCV(svm, param_distributions=svm_params, n_iter=20, cv=3, scoring='accuracy', random_state=42, n_jobs=-1)\n",
        "\n",
        "# K-Nearest Neighbors\n",
        "knn_params = {\n",
        "    'n_neighbors': randint(1, 20),\n",
        "    'weights': ['uniform', 'distance'],\n",
        "    'metric': ['euclidean', 'manhattan']\n",
        "}\n",
        "knn = KNeighborsClassifier()\n",
        "knn_random_search = RandomizedSearchCV(knn, param_distributions=knn_params, n_iter=20, cv=3, scoring='accuracy', random_state=42, n_jobs=-1)\n",
        "\n",
        "# Multilayer Perceptron\n",
        "mlp_params = {\n",
        "    'hidden_layer_sizes': [(50,), (100,)],\n",
        "    'activation': ['relu', 'tanh'],\n",
        "    'solver': ['adam'],\n",
        "    'alpha': uniform(0.0001, 0.01),\n",
        "    'learning_rate': ['constant', 'adaptive']\n",
        "}\n",
        "mlp = MLPClassifier(max_iter=500, random_state=42)\n",
        "mlp_random_search = RandomizedSearchCV(mlp, param_distributions=mlp_params, n_iter=20, cv=3, scoring='accuracy', random_state=42, n_jobs=-1)\n",
        "\n",
        "# Decision Tree\n",
        "dt_params = {\n",
        "    'max_depth': randint(5, 20),\n",
        "    'min_samples_split': randint(2, 10),\n",
        "    'min_samples_leaf': randint(1, 10),\n",
        "    'criterion': ['gini', 'entropy']\n",
        "}\n",
        "dt = DecisionTreeClassifier(random_state=42)\n",
        "dt_random_search = RandomizedSearchCV(dt, param_distributions=dt_params, n_iter=20, cv=3, scoring='accuracy', random_state=42, n_jobs=-1)\n",
        "\n",
        "# Gradient Boosting\n",
        "gb_params = {\n",
        "    'n_estimators': randint(50, 200),\n",
        "    'learning_rate': uniform(0.01, 0.1),\n",
        "    'max_depth': randint(3, 10),\n",
        "    'min_samples_split': randint(2, 10),\n",
        "    'min_samples_leaf': randint(1, 10)\n",
        "}\n",
        "gb = GradientBoostingClassifier(random_state=42)\n",
        "gb_random_search = RandomizedSearchCV(gb, param_distributions=gb_params, n_iter=20, cv=3, scoring='accuracy', random_state=42, n_jobs=-1)\n"
      ],
      "metadata": {
        "id": "0Uacg2jpNmBE"
      },
      "execution_count": 84,
      "outputs": []
    },
    {
      "cell_type": "markdown",
      "source": [
        "## 4.2 Model Training and Evaluation with Optimized Hyperparameters"
      ],
      "metadata": {
        "id": "OXisA2jpLs0m"
      }
    },
    {
      "cell_type": "markdown",
      "source": [
        "After conducting hyperparameter optimization for various machine learning models, we proceed to train and evaluate each model using these optimal settings.\n",
        "\n",
        "**Training and Evaluating Models**\n",
        "*   Model Setup: We define a dictionary of models, each paired with its respective RandomizedSearchCV instance.\n",
        "\n",
        "*   Model Training and Evaluation: Each model is trained on the resampled dataset and evaluated using accuracy and confusion matrix. This helps in understanding the performance of each model across different quality classes of wine."
      ],
      "metadata": {
        "id": "taJURXYUL9yp"
      }
    },
    {
      "cell_type": "code",
      "source": [
        "# Train and evaluate models with the best hyperparameters\n",
        "models = {\n",
        "    \"Random Forest\": rf_random_search,\n",
        "    \"Support Vector Machine\": svm_random_search,\n",
        "    \"K-Nearest Neighbors\": knn_random_search,\n",
        "    \"Multilayer Perceptron\": mlp_random_search,\n",
        "    \"Decision Tree\": dt_random_search,\n",
        "    \"Gradient Boosting\": gb_random_search\n",
        "}\n",
        "\n",
        "# Save the best model\n",
        "best_model = None\n",
        "best_accuracy = 0\n",
        "\n",
        "# Training and evaluation of models with adjusted hyperparameters\n",
        "results = {}\n",
        "for model_name, model_search in models.items():\n",
        "\n",
        "    model_search.fit(X_resampled, y_resampled)\n",
        "    best_estimator = model_search.best_estimator_\n",
        "    y_pred = best_estimator.predict(X_test_boruta)\n",
        "\n",
        "    # Calculate metrics\n",
        "    accuracy = accuracy_score(y_test, y_pred)\n",
        "    precision = precision_score(y_test, y_pred, average='weighted')\n",
        "    recall = recall_score(y_test, y_pred, average='weighted')\n",
        "    f1 = f1_score(y_test, y_pred, average='weighted')\n",
        "    cm = confusion_matrix(y_test, y_pred)\n",
        "\n",
        "    # Show results\n",
        "    print(f\"Results for {model_name}:\")\n",
        "    print(f\"Best Params: {model_search.best_params_}\")\n",
        "    print(f\"Accuracy: {accuracy:.4f}\")\n",
        "    print(\"Confusion Matrix:\")\n",
        "    print(cm)\n",
        "    print(\"\\n\")\n",
        "\n",
        "    # Store results\n",
        "    results[model_name] = {\n",
        "        \"Accuracy\": accuracy,\n",
        "        \"Precision\": precision,\n",
        "        \"Recall\": recall,\n",
        "        \"F1-Score\": f1,\n",
        "        \"Confusion Matrix\": cm\n",
        "    }\n",
        "\n",
        "    # Save the best model\n",
        "    if accuracy > best_accuracy:\n",
        "        best_accuracy = accuracy\n",
        "        best_model = best_estimator\n"
      ],
      "metadata": {
        "colab": {
          "base_uri": "https://localhost:8080/"
        },
        "id": "nl-SpPIES42F",
        "outputId": "a15f415e-bfb7-4d2f-f220-cda19e503a1c"
      },
      "execution_count": 85,
      "outputs": [
        {
          "output_type": "stream",
          "name": "stderr",
          "text": [
            "/usr/local/lib/python3.10/dist-packages/sklearn/base.py:1152: DataConversionWarning: A column-vector y was passed when a 1d array was expected. Please change the shape of y to (n_samples,), for example using ravel().\n",
            "  return fit_method(estimator, *args, **kwargs)\n"
          ]
        },
        {
          "output_type": "stream",
          "name": "stdout",
          "text": [
            "Results for Random Forest:\n",
            "Best Params: {'max_depth': 19, 'min_samples_leaf': 3, 'min_samples_split': 5, 'n_estimators': 104}\n",
            "Accuracy: 0.6092\n",
            "Confusion Matrix:\n",
            "[[  0   1   5   0   0   0   0]\n",
            " [  2  12  17   9   2   1   0]\n",
            " [  4  28 288  91  13   4   0]\n",
            " [  3  10 113 335  93  13   0]\n",
            " [  0   2   9  46 139  17   3]\n",
            " [  0   0   2   5  14  18   0]\n",
            " [  0   0   0   0   1   0   0]]\n",
            "\n",
            "\n"
          ]
        },
        {
          "output_type": "stream",
          "name": "stderr",
          "text": [
            "/usr/local/lib/python3.10/dist-packages/sklearn/utils/validation.py:1183: DataConversionWarning: A column-vector y was passed when a 1d array was expected. Please change the shape of y to (n_samples, ), for example using ravel().\n",
            "  y = column_or_1d(y, warn=True)\n"
          ]
        },
        {
          "output_type": "stream",
          "name": "stdout",
          "text": [
            "Results for Support Vector Machine:\n",
            "Best Params: {'C': 3.105575058716044, 'gamma': 'auto', 'kernel': 'rbf'}\n",
            "Accuracy: 0.4108\n",
            "Confusion Matrix:\n",
            "[[  0   4   1   1   0   0   0]\n",
            " [  1  22  13   4   1   1   1]\n",
            " [ 13  88 214  71  25  17   0]\n",
            " [ 15  41 132 182 124  70   3]\n",
            " [  2   5  12  37  94  58   8]\n",
            " [  1   1   1   2  12  21   1]\n",
            " [  0   0   0   0   0   0   1]]\n",
            "\n",
            "\n"
          ]
        },
        {
          "output_type": "stream",
          "name": "stderr",
          "text": [
            "/usr/local/lib/python3.10/dist-packages/sklearn/neighbors/_classification.py:233: DataConversionWarning: A column-vector y was passed when a 1d array was expected. Please change the shape of y to (n_samples,), for example using ravel().\n",
            "  return self._fit(X, y)\n"
          ]
        },
        {
          "output_type": "stream",
          "name": "stdout",
          "text": [
            "Results for K-Nearest Neighbors:\n",
            "Best Params: {'metric': 'euclidean', 'n_neighbors': 2, 'weights': 'distance'}\n",
            "Accuracy: 0.6015\n",
            "Confusion Matrix:\n",
            "[[  0   2   2   2   0   0   0]\n",
            " [  1  13  15  11   1   1   1]\n",
            " [  6  26 275  93  25   2   1]\n",
            " [  5  16  96 351  79  19   1]\n",
            " [  1   2  11  52 123  23   4]\n",
            " [  0   0   2   5  10  20   2]\n",
            " [  0   0   0   0   0   1   0]]\n",
            "\n",
            "\n"
          ]
        },
        {
          "output_type": "stream",
          "name": "stderr",
          "text": [
            "/usr/local/lib/python3.10/dist-packages/sklearn/neural_network/_multilayer_perceptron.py:1102: DataConversionWarning: A column-vector y was passed when a 1d array was expected. Please change the shape of y to (n_samples, ), for example using ravel().\n",
            "  y = column_or_1d(y, warn=True)\n",
            "/usr/local/lib/python3.10/dist-packages/sklearn/neural_network/_multilayer_perceptron.py:691: ConvergenceWarning: Stochastic Optimizer: Maximum iterations (500) reached and the optimization hasn't converged yet.\n",
            "  warnings.warn(\n"
          ]
        },
        {
          "output_type": "stream",
          "name": "stdout",
          "text": [
            "Results for Multilayer Perceptron:\n",
            "Best Params: {'activation': 'tanh', 'alpha': 0.0006641157902710027, 'hidden_layer_sizes': (100,), 'learning_rate': 'adaptive', 'solver': 'adam'}\n",
            "Accuracy: 0.4346\n",
            "Confusion Matrix:\n",
            "[[  0   4   2   0   0   0   0]\n",
            " [  1  16  18   4   2   2   0]\n",
            " [  2  50 239  84  44   8   1]\n",
            " [  6  37 150 174 148  49   3]\n",
            " [  0   5  13  40 117  35   6]\n",
            " [  0   0   1   3  15  19   1]\n",
            " [  0   0   0   0   1   0   0]]\n",
            "\n",
            "\n",
            "Results for Decision Tree:\n",
            "Best Params: {'criterion': 'gini', 'max_depth': 16, 'min_samples_leaf': 2, 'min_samples_split': 3}\n",
            "Accuracy: 0.5085\n",
            "Confusion Matrix:\n",
            "[[  0   4   1   1   0   0   0]\n",
            " [  2  13  13  10   5   0   0]\n",
            " [ 15  46 252  88  21   6   0]\n",
            " [  9  40 139 274  85  19   1]\n",
            " [  0   4  32  54 105  21   0]\n",
            " [  0   1   4   9   8  17   0]\n",
            " [  0   0   0   1   0   0   0]]\n",
            "\n",
            "\n"
          ]
        },
        {
          "output_type": "stream",
          "name": "stderr",
          "text": [
            "/usr/local/lib/python3.10/dist-packages/sklearn/ensemble/_gb.py:424: DataConversionWarning: A column-vector y was passed when a 1d array was expected. Please change the shape of y to (n_samples, ), for example using ravel().\n",
            "  y = column_or_1d(y, warn=True)\n"
          ]
        },
        {
          "output_type": "stream",
          "name": "stdout",
          "text": [
            "Results for Gradient Boosting:\n",
            "Best Params: {'learning_rate': 0.049488151817556975, 'max_depth': 9, 'min_samples_leaf': 3, 'min_samples_split': 2, 'n_estimators': 185}\n",
            "Accuracy: 0.6362\n",
            "Confusion Matrix:\n",
            "[[  0   0   5   0   1   0   0]\n",
            " [  0  10  16  13   2   2   0]\n",
            " [  5  27 276 110   6   4   0]\n",
            " [  2   6  97 394  63   5   0]\n",
            " [  0   0  13  60 130  10   3]\n",
            " [  0   0   2   7  13  17   0]\n",
            " [  0   0   0   0   1   0   0]]\n",
            "\n",
            "\n"
          ]
        }
      ]
    },
    {
      "cell_type": "code",
      "source": [
        "# Create a DataFrame to display results\n",
        "results_df = pd.DataFrame(results).T\n",
        "results_df = results_df.drop(columns=['Confusion Matrix'])  # Dropping confusion matrix for clarity\n",
        "\n",
        "# Display the summary table\n",
        "print(\"Summary of Model Performance:\")\n",
        "print(results_df)\n",
        "\n",
        "# Save the results table as a CSV file\n",
        "results_df.to_csv(\"model_performance_summary.csv\", index=True)\n",
        "print(\"Model performance summary saved as 'model_performance_summary.csv'\")\n",
        "\n",
        "# Visualization of the confusion matrix of the best model\n",
        "sns.heatmap(results[max(results, key=lambda x: results[x]['Accuracy'])]['Confusion Matrix'], annot=True, fmt=\"d\", cmap=\"Blues\")\n",
        "plt.title(f\"Confusion Matrix - {max(results, key=lambda x: results[x]['Accuracy'])}\")\n",
        "plt.show()\n",
        "\n",
        "print(f\"The best model is: {max(results, key=lambda x: results[x]['Accuracy'])} with an accuracy of {best_accuracy:.4f}\")\n",
        "\n",
        "# Save the best model\n",
        "joblib.dump(best_model, 'best_model.pkl')\n",
        "print(\"Best model saved as 'best_model.pkl'\")"
      ],
      "metadata": {
        "colab": {
          "base_uri": "https://localhost:8080/",
          "height": 643
        },
        "id": "PJU5HEJ8pBL7",
        "outputId": "6646d37c-35ef-4f19-df8b-bbf49f3ac6ed"
      },
      "execution_count": 93,
      "outputs": [
        {
          "output_type": "stream",
          "name": "stdout",
          "text": [
            "Summary of Model Performance:\n",
            "                        Accuracy Precision    Recall  F1-Score\n",
            "Random Forest           0.609231  0.624945  0.609231  0.614153\n",
            "Support Vector Machine  0.410769  0.525518  0.410769  0.439202\n",
            "K-Nearest Neighbors     0.601538  0.625871  0.601538  0.611556\n",
            "Multilayer Perceptron   0.434615  0.504061  0.434615  0.444919\n",
            "Decision Tree           0.508462  0.551563  0.508462  0.524002\n",
            "Gradient Boosting       0.636154  0.637538  0.636154  0.636667\n",
            "Model performance summary saved as 'model_performance_summary.csv'\n"
          ]
        },
        {
          "output_type": "display_data",
          "data": {
            "text/plain": [
              "<Figure size 640x480 with 2 Axes>"
            ],
            "image/png": "[encoded data removed]"
          },
          "metadata": {}
        },
        {
          "output_type": "stream",
          "name": "stdout",
          "text": [
            "The best model is: Gradient Boosting with an accuracy of 0.6362\n",
            "Best model saved as 'best_model.pkl'\n"
          ]
        }
      ]
    },
    {
      "cell_type": "markdown",
      "source": [
        "# 5. Conclusion"
      ],
      "metadata": {
        "id": "dz1vMEjVMxK7"
      }
    },
    {
      "cell_type": "markdown",
      "source": [
        "Based on the performance summary and confusion matrix  for the Gradient Boosting model, we can draw several conclusions about the effectiveness of the various models tested on the wine quality classification task:\n",
        "\n",
        "## Summary of Findings:\n",
        "### Model Performance:\n",
        "\n",
        "*   Gradient Boosting demonstrated the highest overall accuracy of 0.636, along\n",
        "with robust precision and F1-scores. This suggests that Gradient Boosting is particularly effective for this dataset, likely due to its capability of handling the non-linear relationships and interactions between features.\n",
        "*   Random Forest also performed well, showing strong accuracy and precision, which indicates its effectiveness in ensemble learning scenarios for this type of data.\n",
        "*   Support Vector Machine and Multilayer Perceptron exhibited lower performance metrics compared to ensemble methods, which might be due to their sensitivity to the scale of the data or the need for more fine-tuned hyperparameter settings.\n",
        "\n",
        "### Confusion Matrix Insights:\n",
        "\n",
        "*   The confusion matrix for the Gradient Boosting model reveals that while the model is quite effective at predicting certain classes (e.g., class 2), it struggles with others (e.g., class 0 and class 6). This could indicate areas where further model tuning or additional data collection might improve performance.\n",
        "*   The model shows a strong ability to predict the majority classes but less effectiveness with minority classes, highlighting a common challenge in imbalanced datasets.\n",
        "\n",
        "### Practical Implications:\n",
        "\n",
        "*   The results suggest that Gradient Boosting is the most suitable model for deployment if the goal is to maximize overall accuracy and balance between precision and recall across classes.\n",
        "*   The variation in model performance across different metrics underscores the importance of choosing the right evaluation criteria based on the specific needs of the wine quality assessment (e.g., whether false positives or false negatives have a higher cost).\n",
        "\n",
        "## Recommendations for Further Research:\n",
        "*   Data Augmentation: Additional data collection, especially for underrepresented classes, could help improve model training and the robustness of predictions.\n",
        "*   Advanced Feature Engineering: Further analysis to identify and engineer new features could provide models with more predictive power.\n",
        "*   Model Ensembling: Combining predictions from multiple models could help overcome individual model limitations and improve prediction accuracy.\n",
        "\n",
        "# Conclusion:\n",
        "Unfortunately, excellent results were not achieved with the data on the physicochemical properties of wine and the characteristics of the dataset. [Other studies](https://rstudio-pubs-static.s3.amazonaws.com/175762_83cf2d7b322c4c63bf9ba2487b79e77e.html) carried out with this dataset that separate the quality classification into different models for white and red wines, obtain similar results to those obtained in this notebook, so it would be interesting to add real instances of low and high quality wines; as well as to verify the need for new features that can influence the classification."
      ],
      "metadata": {
        "id": "In-AjcY2CDt1"
      }
    }
  ]
}